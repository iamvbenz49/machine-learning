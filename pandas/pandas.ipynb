{
 "cells": [
  {
   "cell_type": "code",
   "execution_count": 1,
   "id": "9c67c43f",
   "metadata": {
    "_cell_guid": "b1076dfc-b9ad-4769-8c92-a6c4dae69d19",
    "_uuid": "8f2839f25d086af736a60e9eeb907d3b93b6e0e5",
    "execution": {
     "iopub.execute_input": "2023-08-15T18:07:09.257143Z",
     "iopub.status.busy": "2023-08-15T18:07:09.256603Z",
     "iopub.status.idle": "2023-08-15T18:07:09.271173Z",
     "shell.execute_reply": "2023-08-15T18:07:09.269986Z"
    },
    "papermill": {
     "duration": 0.035903,
     "end_time": "2023-08-15T18:07:09.273709",
     "exception": false,
     "start_time": "2023-08-15T18:07:09.237806",
     "status": "completed"
    },
    "tags": []
   },
   "outputs": [],
   "source": [
    "import numpy as np # linear algebra\n",
    "import pandas as pd # data processing, CSV file I/O (e.g. pd.read_csv)"
   ]
  },
  {
   "cell_type": "code",
   "execution_count": 2,
   "id": "25830810",
   "metadata": {
    "execution": {
     "iopub.execute_input": "2023-08-15T18:07:09.310614Z",
     "iopub.status.busy": "2023-08-15T18:07:09.310218Z",
     "iopub.status.idle": "2023-08-15T18:07:09.324373Z",
     "shell.execute_reply": "2023-08-15T18:07:09.322775Z"
    },
    "papermill": {
     "duration": 0.036424,
     "end_time": "2023-08-15T18:07:09.326907",
     "exception": false,
     "start_time": "2023-08-15T18:07:09.290483",
     "status": "completed"
    },
    "tags": []
   },
   "outputs": [
    {
     "data": {
      "text/plain": [
       "0    1\n",
       "1    2\n",
       "2    3\n",
       "3    4\n",
       "4    5\n",
       "Name: random numbers, dtype: int64"
      ]
     },
     "execution_count": 2,
     "metadata": {},
     "output_type": "execute_result"
    }
   ],
   "source": [
    "num = pd.Series([1,2,3,4,5])\n",
    "num.name = \"random numbers\"\n",
    "num"
   ]
  },
  {
   "cell_type": "code",
   "execution_count": 3,
   "id": "e5c79c48",
   "metadata": {
    "execution": {
     "iopub.execute_input": "2023-08-15T18:07:09.361735Z",
     "iopub.status.busy": "2023-08-15T18:07:09.361340Z",
     "iopub.status.idle": "2023-08-15T18:07:09.370467Z",
     "shell.execute_reply": "2023-08-15T18:07:09.369102Z"
    },
    "papermill": {
     "duration": 0.029544,
     "end_time": "2023-08-15T18:07:09.372890",
     "exception": false,
     "start_time": "2023-08-15T18:07:09.343346",
     "status": "completed"
    },
    "tags": []
   },
   "outputs": [
    {
     "data": {
      "text/plain": [
       "array([1, 2, 3, 4, 5])"
      ]
     },
     "execution_count": 3,
     "metadata": {},
     "output_type": "execute_result"
    }
   ],
   "source": [
    "num.values"
   ]
  },
  {
   "cell_type": "code",
   "execution_count": 4,
   "id": "ce38d64f",
   "metadata": {
    "execution": {
     "iopub.execute_input": "2023-08-15T18:07:09.408092Z",
     "iopub.status.busy": "2023-08-15T18:07:09.407581Z",
     "iopub.status.idle": "2023-08-15T18:07:09.415583Z",
     "shell.execute_reply": "2023-08-15T18:07:09.414599Z"
    },
    "papermill": {
     "duration": 0.028198,
     "end_time": "2023-08-15T18:07:09.417659",
     "exception": false,
     "start_time": "2023-08-15T18:07:09.389461",
     "status": "completed"
    },
    "tags": []
   },
   "outputs": [
    {
     "data": {
      "text/plain": [
       "numpy.ndarray"
      ]
     },
     "execution_count": 4,
     "metadata": {},
     "output_type": "execute_result"
    }
   ],
   "source": [
    "type(num.values)"
   ]
  },
  {
   "cell_type": "code",
   "execution_count": 5,
   "id": "fd34467d",
   "metadata": {
    "execution": {
     "iopub.execute_input": "2023-08-15T18:07:09.453514Z",
     "iopub.status.busy": "2023-08-15T18:07:09.452957Z",
     "iopub.status.idle": "2023-08-15T18:07:09.460380Z",
     "shell.execute_reply": "2023-08-15T18:07:09.459414Z"
    },
    "papermill": {
     "duration": 0.028138,
     "end_time": "2023-08-15T18:07:09.462524",
     "exception": false,
     "start_time": "2023-08-15T18:07:09.434386",
     "status": "completed"
    },
    "tags": []
   },
   "outputs": [
    {
     "data": {
      "text/plain": [
       "3"
      ]
     },
     "execution_count": 5,
     "metadata": {},
     "output_type": "execute_result"
    }
   ],
   "source": [
    "num[2]"
   ]
  },
  {
   "cell_type": "code",
   "execution_count": 6,
   "id": "815deea9",
   "metadata": {
    "execution": {
     "iopub.execute_input": "2023-08-15T18:07:09.498280Z",
     "iopub.status.busy": "2023-08-15T18:07:09.497762Z",
     "iopub.status.idle": "2023-08-15T18:07:09.505778Z",
     "shell.execute_reply": "2023-08-15T18:07:09.504540Z"
    },
    "papermill": {
     "duration": 0.029005,
     "end_time": "2023-08-15T18:07:09.508220",
     "exception": false,
     "start_time": "2023-08-15T18:07:09.479215",
     "status": "completed"
    },
    "tags": []
   },
   "outputs": [
    {
     "data": {
      "text/plain": [
       "RangeIndex(start=0, stop=5, step=1)"
      ]
     },
     "execution_count": 6,
     "metadata": {},
     "output_type": "execute_result"
    }
   ],
   "source": [
    "num.index"
   ]
  },
  {
   "cell_type": "code",
   "execution_count": 7,
   "id": "c66480e9",
   "metadata": {
    "execution": {
     "iopub.execute_input": "2023-08-15T18:07:09.544494Z",
     "iopub.status.busy": "2023-08-15T18:07:09.543977Z",
     "iopub.status.idle": "2023-08-15T18:07:09.559451Z",
     "shell.execute_reply": "2023-08-15T18:07:09.558528Z"
    },
    "papermill": {
     "duration": 0.036572,
     "end_time": "2023-08-15T18:07:09.561763",
     "exception": false,
     "start_time": "2023-08-15T18:07:09.525191",
     "status": "completed"
    },
    "tags": []
   },
   "outputs": [
    {
     "data": {
      "text/plain": [
       "i1    1\n",
       "i2    2\n",
       "i3    3\n",
       "i4    4\n",
       "i5    5\n",
       "Name: random numbers, dtype: int64"
      ]
     },
     "execution_count": 7,
     "metadata": {},
     "output_type": "execute_result"
    }
   ],
   "source": [
    "num.index = [\n",
    "    'i1','i2','i3','i4','i5'\n",
    "]\n",
    "num"
   ]
  },
  {
   "cell_type": "code",
   "execution_count": 8,
   "id": "693efcfe",
   "metadata": {
    "execution": {
     "iopub.execute_input": "2023-08-15T18:07:09.603141Z",
     "iopub.status.busy": "2023-08-15T18:07:09.602699Z",
     "iopub.status.idle": "2023-08-15T18:07:09.610074Z",
     "shell.execute_reply": "2023-08-15T18:07:09.608861Z"
    },
    "papermill": {
     "duration": 0.030936,
     "end_time": "2023-08-15T18:07:09.612481",
     "exception": false,
     "start_time": "2023-08-15T18:07:09.581545",
     "status": "completed"
    },
    "tags": []
   },
   "outputs": [
    {
     "data": {
      "text/plain": [
       "1"
      ]
     },
     "execution_count": 8,
     "metadata": {},
     "output_type": "execute_result"
    }
   ],
   "source": [
    "num['i1']"
   ]
  },
  {
   "cell_type": "code",
   "execution_count": 9,
   "id": "ec284377",
   "metadata": {
    "execution": {
     "iopub.execute_input": "2023-08-15T18:07:09.650346Z",
     "iopub.status.busy": "2023-08-15T18:07:09.649851Z",
     "iopub.status.idle": "2023-08-15T18:07:09.658273Z",
     "shell.execute_reply": "2023-08-15T18:07:09.657032Z"
    },
    "papermill": {
     "duration": 0.030618,
     "end_time": "2023-08-15T18:07:09.661003",
     "exception": false,
     "start_time": "2023-08-15T18:07:09.630385",
     "status": "completed"
    },
    "tags": []
   },
   "outputs": [
    {
     "data": {
      "text/plain": [
       "(2, 5)"
      ]
     },
     "execution_count": 9,
     "metadata": {},
     "output_type": "execute_result"
    }
   ],
   "source": [
    "num.iloc[1],num.iloc[-1]"
   ]
  },
  {
   "cell_type": "code",
   "execution_count": 10,
   "id": "63a1815e",
   "metadata": {
    "execution": {
     "iopub.execute_input": "2023-08-15T18:07:09.699474Z",
     "iopub.status.busy": "2023-08-15T18:07:09.698992Z",
     "iopub.status.idle": "2023-08-15T18:07:09.710233Z",
     "shell.execute_reply": "2023-08-15T18:07:09.709332Z"
    },
    "papermill": {
     "duration": 0.032959,
     "end_time": "2023-08-15T18:07:09.712420",
     "exception": false,
     "start_time": "2023-08-15T18:07:09.679461",
     "status": "completed"
    },
    "tags": []
   },
   "outputs": [
    {
     "data": {
      "text/plain": [
       "i1    1\n",
       "i2    2\n",
       "i3    3\n",
       "Name: random numbers, dtype: int64"
      ]
     },
     "execution_count": 10,
     "metadata": {},
     "output_type": "execute_result"
    }
   ],
   "source": [
    "num['i1':'i3']"
   ]
  },
  {
   "cell_type": "code",
   "execution_count": 11,
   "id": "3fb2b934",
   "metadata": {
    "execution": {
     "iopub.execute_input": "2023-08-15T18:07:09.749675Z",
     "iopub.status.busy": "2023-08-15T18:07:09.749241Z",
     "iopub.status.idle": "2023-08-15T18:07:09.757035Z",
     "shell.execute_reply": "2023-08-15T18:07:09.755873Z"
    },
    "papermill": {
     "duration": 0.02935,
     "end_time": "2023-08-15T18:07:09.759384",
     "exception": false,
     "start_time": "2023-08-15T18:07:09.730034",
     "status": "completed"
    },
    "tags": []
   },
   "outputs": [
    {
     "data": {
      "text/plain": [
       "i1    1\n",
       "i2    2\n",
       "i3    3\n",
       "i4    4\n",
       "i5    5\n",
       "Name: random numbers, dtype: int64"
      ]
     },
     "execution_count": 11,
     "metadata": {},
     "output_type": "execute_result"
    }
   ],
   "source": [
    "num"
   ]
  },
  {
   "cell_type": "code",
   "execution_count": 12,
   "id": "f26b0467",
   "metadata": {
    "execution": {
     "iopub.execute_input": "2023-08-15T18:07:09.797857Z",
     "iopub.status.busy": "2023-08-15T18:07:09.797432Z",
     "iopub.status.idle": "2023-08-15T18:07:09.807748Z",
     "shell.execute_reply": "2023-08-15T18:07:09.806561Z"
    },
    "papermill": {
     "duration": 0.032426,
     "end_time": "2023-08-15T18:07:09.810022",
     "exception": false,
     "start_time": "2023-08-15T18:07:09.777596",
     "status": "completed"
    },
    "tags": []
   },
   "outputs": [
    {
     "data": {
      "text/plain": [
       "i1    False\n",
       "i2    False\n",
       "i3    False\n",
       "i4     True\n",
       "i5     True\n",
       "Name: random numbers, dtype: bool"
      ]
     },
     "execution_count": 12,
     "metadata": {},
     "output_type": "execute_result"
    }
   ],
   "source": [
    "num>3"
   ]
  },
  {
   "cell_type": "code",
   "execution_count": 13,
   "id": "1cac6c68",
   "metadata": {
    "execution": {
     "iopub.execute_input": "2023-08-15T18:07:09.848509Z",
     "iopub.status.busy": "2023-08-15T18:07:09.848004Z",
     "iopub.status.idle": "2023-08-15T18:07:09.857655Z",
     "shell.execute_reply": "2023-08-15T18:07:09.856368Z"
    },
    "papermill": {
     "duration": 0.032131,
     "end_time": "2023-08-15T18:07:09.860235",
     "exception": false,
     "start_time": "2023-08-15T18:07:09.828104",
     "status": "completed"
    },
    "tags": []
   },
   "outputs": [
    {
     "data": {
      "text/plain": [
       "i4    4\n",
       "i5    5\n",
       "Name: random numbers, dtype: int64"
      ]
     },
     "execution_count": 13,
     "metadata": {},
     "output_type": "execute_result"
    }
   ],
   "source": [
    "num[num>3]"
   ]
  },
  {
   "cell_type": "code",
   "execution_count": 14,
   "id": "679f6491",
   "metadata": {
    "execution": {
     "iopub.execute_input": "2023-08-15T18:07:09.899267Z",
     "iopub.status.busy": "2023-08-15T18:07:09.898842Z",
     "iopub.status.idle": "2023-08-15T18:07:09.906793Z",
     "shell.execute_reply": "2023-08-15T18:07:09.905435Z"
    },
    "papermill": {
     "duration": 0.030728,
     "end_time": "2023-08-15T18:07:09.909362",
     "exception": false,
     "start_time": "2023-08-15T18:07:09.878634",
     "status": "completed"
    },
    "tags": []
   },
   "outputs": [
    {
     "data": {
      "text/plain": [
       "3.0"
      ]
     },
     "execution_count": 14,
     "metadata": {},
     "output_type": "execute_result"
    }
   ],
   "source": [
    "num.mean()"
   ]
  },
  {
   "cell_type": "code",
   "execution_count": 15,
   "id": "325fc61f",
   "metadata": {
    "execution": {
     "iopub.execute_input": "2023-08-15T18:07:09.949081Z",
     "iopub.status.busy": "2023-08-15T18:07:09.948603Z",
     "iopub.status.idle": "2023-08-15T18:07:09.958221Z",
     "shell.execute_reply": "2023-08-15T18:07:09.956895Z"
    },
    "papermill": {
     "duration": 0.031974,
     "end_time": "2023-08-15T18:07:09.960333",
     "exception": false,
     "start_time": "2023-08-15T18:07:09.928359",
     "status": "completed"
    },
    "tags": []
   },
   "outputs": [
    {
     "data": {
      "text/plain": [
       "i4    4\n",
       "i5    5\n",
       "Name: random numbers, dtype: int64"
      ]
     },
     "execution_count": 15,
     "metadata": {},
     "output_type": "execute_result"
    }
   ],
   "source": [
    "num[num>num.mean()]"
   ]
  },
  {
   "cell_type": "code",
   "execution_count": 16,
   "id": "7aac9c6a",
   "metadata": {
    "execution": {
     "iopub.execute_input": "2023-08-15T18:07:09.999285Z",
     "iopub.status.busy": "2023-08-15T18:07:09.998816Z",
     "iopub.status.idle": "2023-08-15T18:07:10.007818Z",
     "shell.execute_reply": "2023-08-15T18:07:10.006545Z"
    },
    "papermill": {
     "duration": 0.031391,
     "end_time": "2023-08-15T18:07:10.010318",
     "exception": false,
     "start_time": "2023-08-15T18:07:09.978927",
     "status": "completed"
    },
    "tags": []
   },
   "outputs": [
    {
     "data": {
      "text/plain": [
       "i1     1\n",
       "i2    54\n",
       "i3     3\n",
       "i4     4\n",
       "i5     5\n",
       "Name: random numbers, dtype: int64"
      ]
     },
     "execution_count": 16,
     "metadata": {},
     "output_type": "execute_result"
    }
   ],
   "source": [
    "num['i2'] = 54\n",
    "num"
   ]
  },
  {
   "cell_type": "code",
   "execution_count": 17,
   "id": "2b8ff995",
   "metadata": {
    "execution": {
     "iopub.execute_input": "2023-08-15T18:07:10.049228Z",
     "iopub.status.busy": "2023-08-15T18:07:10.048806Z",
     "iopub.status.idle": "2023-08-15T18:07:10.057053Z",
     "shell.execute_reply": "2023-08-15T18:07:10.056205Z"
    },
    "papermill": {
     "duration": 0.030333,
     "end_time": "2023-08-15T18:07:10.059249",
     "exception": false,
     "start_time": "2023-08-15T18:07:10.028916",
     "status": "completed"
    },
    "tags": []
   },
   "outputs": [
    {
     "data": {
      "text/plain": [
       "i1      1\n",
       "i2     54\n",
       "i3      3\n",
       "i4      4\n",
       "i5    231\n",
       "Name: random numbers, dtype: int64"
      ]
     },
     "execution_count": 17,
     "metadata": {},
     "output_type": "execute_result"
    }
   ],
   "source": [
    "num.iloc[-1] = 231\n",
    "num"
   ]
  },
  {
   "cell_type": "markdown",
   "id": "40f32368",
   "metadata": {
    "papermill": {
     "duration": 0.018474,
     "end_time": "2023-08-15T18:07:10.096365",
     "exception": false,
     "start_time": "2023-08-15T18:07:10.077891",
     "status": "completed"
    },
    "tags": []
   },
   "source": [
    "**DATAFRAME**"
   ]
  },
  {
   "cell_type": "code",
   "execution_count": 18,
   "id": "80e915c1",
   "metadata": {
    "execution": {
     "iopub.execute_input": "2023-08-15T18:07:10.135759Z",
     "iopub.status.busy": "2023-08-15T18:07:10.135241Z",
     "iopub.status.idle": "2023-08-15T18:07:10.159101Z",
     "shell.execute_reply": "2023-08-15T18:07:10.157752Z"
    },
    "papermill": {
     "duration": 0.046848,
     "end_time": "2023-08-15T18:07:10.161812",
     "exception": false,
     "start_time": "2023-08-15T18:07:10.114964",
     "status": "completed"
    },
    "tags": []
   },
   "outputs": [
    {
     "data": {
      "text/html": [
       "<div>\n",
       "<style scoped>\n",
       "    .dataframe tbody tr th:only-of-type {\n",
       "        vertical-align: middle;\n",
       "    }\n",
       "\n",
       "    .dataframe tbody tr th {\n",
       "        vertical-align: top;\n",
       "    }\n",
       "\n",
       "    .dataframe thead th {\n",
       "        text-align: right;\n",
       "    }\n",
       "</style>\n",
       "<table border=\"1\" class=\"dataframe\">\n",
       "  <thead>\n",
       "    <tr style=\"text-align: right;\">\n",
       "      <th></th>\n",
       "      <th>Country</th>\n",
       "      <th>Role</th>\n",
       "      <th>Batting_Style</th>\n",
       "      <th>Bowling_Style</th>\n",
       "      <th>Matches_Played</th>\n",
       "      <th>Runs_Scored</th>\n",
       "      <th>Wickets_Taken</th>\n",
       "    </tr>\n",
       "  </thead>\n",
       "  <tbody>\n",
       "    <tr>\n",
       "      <th>0</th>\n",
       "      <td>India</td>\n",
       "      <td>Batsman</td>\n",
       "      <td>Right-handed</td>\n",
       "      <td>Right-arm medium</td>\n",
       "      <td>254</td>\n",
       "      <td>12169</td>\n",
       "      <td>4</td>\n",
       "    </tr>\n",
       "    <tr>\n",
       "      <th>1</th>\n",
       "      <td>Australia</td>\n",
       "      <td>Batsman</td>\n",
       "      <td>Right-handed</td>\n",
       "      <td>Right-arm leg spin</td>\n",
       "      <td>139</td>\n",
       "      <td>7540</td>\n",
       "      <td>43</td>\n",
       "    </tr>\n",
       "    <tr>\n",
       "      <th>2</th>\n",
       "      <td>New Zealand</td>\n",
       "      <td>Batsman</td>\n",
       "      <td>Right-handed</td>\n",
       "      <td>Right-arm off spin</td>\n",
       "      <td>150</td>\n",
       "      <td>7115</td>\n",
       "      <td>29</td>\n",
       "    </tr>\n",
       "    <tr>\n",
       "      <th>3</th>\n",
       "      <td>England</td>\n",
       "      <td>Batsman</td>\n",
       "      <td>Right-handed</td>\n",
       "      <td>Right-arm off spin</td>\n",
       "      <td>102</td>\n",
       "      <td>8249</td>\n",
       "      <td>23</td>\n",
       "    </tr>\n",
       "    <tr>\n",
       "      <th>4</th>\n",
       "      <td>India</td>\n",
       "      <td>Batsman</td>\n",
       "      <td>Right-handed</td>\n",
       "      <td>Right-arm off spin</td>\n",
       "      <td>227</td>\n",
       "      <td>9205</td>\n",
       "      <td>8</td>\n",
       "    </tr>\n",
       "  </tbody>\n",
       "</table>\n",
       "</div>"
      ],
      "text/plain": [
       "       Country     Role Batting_Style       Bowling_Style  Matches_Played  \\\n",
       "0        India  Batsman  Right-handed    Right-arm medium             254   \n",
       "1    Australia  Batsman  Right-handed  Right-arm leg spin             139   \n",
       "2  New Zealand  Batsman  Right-handed  Right-arm off spin             150   \n",
       "3      England  Batsman  Right-handed  Right-arm off spin             102   \n",
       "4        India  Batsman  Right-handed  Right-arm off spin             227   \n",
       "\n",
       "   Runs_Scored  Wickets_Taken  \n",
       "0        12169              4  \n",
       "1         7540             43  \n",
       "2         7115             29  \n",
       "3         8249             23  \n",
       "4         9205              8  "
      ]
     },
     "execution_count": 18,
     "metadata": {},
     "output_type": "execute_result"
    }
   ],
   "source": [
    "df = pd.DataFrame({\n",
    "    'Country': ['India', 'Australia', 'New Zealand', 'England', 'India'],\n",
    "    'Role': ['Batsman', 'Batsman', 'Batsman', 'Batsman', 'Batsman'],\n",
    "    'Batting_Style': ['Right-handed', 'Right-handed', 'Right-handed', 'Right-handed', 'Right-handed'],\n",
    "    'Bowling_Style': ['Right-arm medium', 'Right-arm leg spin', 'Right-arm off spin', 'Right-arm off spin', 'Right-arm off spin'],\n",
    "    'Matches_Played': [254, 139, 150, 102, 227],\n",
    "    'Runs_Scored': [12169, 7540, 7115, 8249, 9205],\n",
    "    'Wickets_Taken': [4, 43, 29, 23, 8]\n",
    "})\n",
    "df"
   ]
  },
  {
   "cell_type": "code",
   "execution_count": 19,
   "id": "bc8fdfdd",
   "metadata": {
    "execution": {
     "iopub.execute_input": "2023-08-15T18:07:10.203442Z",
     "iopub.status.busy": "2023-08-15T18:07:10.203012Z",
     "iopub.status.idle": "2023-08-15T18:07:10.209239Z",
     "shell.execute_reply": "2023-08-15T18:07:10.207950Z"
    },
    "papermill": {
     "duration": 0.030424,
     "end_time": "2023-08-15T18:07:10.211669",
     "exception": false,
     "start_time": "2023-08-15T18:07:10.181245",
     "status": "completed"
    },
    "tags": []
   },
   "outputs": [],
   "source": [
    "df.index = [\n",
    "     'Virat Kohli', 'Steve Smith', 'Kane Williamson', 'Joe Root', 'Rohit Sharma'\n",
    "]"
   ]
  },
  {
   "cell_type": "code",
   "execution_count": 20,
   "id": "2b595d00",
   "metadata": {
    "execution": {
     "iopub.execute_input": "2023-08-15T18:07:10.254234Z",
     "iopub.status.busy": "2023-08-15T18:07:10.253717Z",
     "iopub.status.idle": "2023-08-15T18:07:10.270882Z",
     "shell.execute_reply": "2023-08-15T18:07:10.269678Z"
    },
    "papermill": {
     "duration": 0.042227,
     "end_time": "2023-08-15T18:07:10.273612",
     "exception": false,
     "start_time": "2023-08-15T18:07:10.231385",
     "status": "completed"
    },
    "tags": []
   },
   "outputs": [
    {
     "data": {
      "text/html": [
       "<div>\n",
       "<style scoped>\n",
       "    .dataframe tbody tr th:only-of-type {\n",
       "        vertical-align: middle;\n",
       "    }\n",
       "\n",
       "    .dataframe tbody tr th {\n",
       "        vertical-align: top;\n",
       "    }\n",
       "\n",
       "    .dataframe thead th {\n",
       "        text-align: right;\n",
       "    }\n",
       "</style>\n",
       "<table border=\"1\" class=\"dataframe\">\n",
       "  <thead>\n",
       "    <tr style=\"text-align: right;\">\n",
       "      <th></th>\n",
       "      <th>Country</th>\n",
       "      <th>Role</th>\n",
       "      <th>Batting_Style</th>\n",
       "      <th>Bowling_Style</th>\n",
       "      <th>Matches_Played</th>\n",
       "      <th>Runs_Scored</th>\n",
       "      <th>Wickets_Taken</th>\n",
       "    </tr>\n",
       "  </thead>\n",
       "  <tbody>\n",
       "    <tr>\n",
       "      <th>Virat Kohli</th>\n",
       "      <td>India</td>\n",
       "      <td>Batsman</td>\n",
       "      <td>Right-handed</td>\n",
       "      <td>Right-arm medium</td>\n",
       "      <td>254</td>\n",
       "      <td>12169</td>\n",
       "      <td>4</td>\n",
       "    </tr>\n",
       "    <tr>\n",
       "      <th>Steve Smith</th>\n",
       "      <td>Australia</td>\n",
       "      <td>Batsman</td>\n",
       "      <td>Right-handed</td>\n",
       "      <td>Right-arm leg spin</td>\n",
       "      <td>139</td>\n",
       "      <td>7540</td>\n",
       "      <td>43</td>\n",
       "    </tr>\n",
       "    <tr>\n",
       "      <th>Kane Williamson</th>\n",
       "      <td>New Zealand</td>\n",
       "      <td>Batsman</td>\n",
       "      <td>Right-handed</td>\n",
       "      <td>Right-arm off spin</td>\n",
       "      <td>150</td>\n",
       "      <td>7115</td>\n",
       "      <td>29</td>\n",
       "    </tr>\n",
       "    <tr>\n",
       "      <th>Joe Root</th>\n",
       "      <td>England</td>\n",
       "      <td>Batsman</td>\n",
       "      <td>Right-handed</td>\n",
       "      <td>Right-arm off spin</td>\n",
       "      <td>102</td>\n",
       "      <td>8249</td>\n",
       "      <td>23</td>\n",
       "    </tr>\n",
       "    <tr>\n",
       "      <th>Rohit Sharma</th>\n",
       "      <td>India</td>\n",
       "      <td>Batsman</td>\n",
       "      <td>Right-handed</td>\n",
       "      <td>Right-arm off spin</td>\n",
       "      <td>227</td>\n",
       "      <td>9205</td>\n",
       "      <td>8</td>\n",
       "    </tr>\n",
       "  </tbody>\n",
       "</table>\n",
       "</div>"
      ],
      "text/plain": [
       "                     Country     Role Batting_Style       Bowling_Style  \\\n",
       "Virat Kohli            India  Batsman  Right-handed    Right-arm medium   \n",
       "Steve Smith        Australia  Batsman  Right-handed  Right-arm leg spin   \n",
       "Kane Williamson  New Zealand  Batsman  Right-handed  Right-arm off spin   \n",
       "Joe Root             England  Batsman  Right-handed  Right-arm off spin   \n",
       "Rohit Sharma           India  Batsman  Right-handed  Right-arm off spin   \n",
       "\n",
       "                 Matches_Played  Runs_Scored  Wickets_Taken  \n",
       "Virat Kohli                 254        12169              4  \n",
       "Steve Smith                 139         7540             43  \n",
       "Kane Williamson             150         7115             29  \n",
       "Joe Root                    102         8249             23  \n",
       "Rohit Sharma                227         9205              8  "
      ]
     },
     "execution_count": 20,
     "metadata": {},
     "output_type": "execute_result"
    }
   ],
   "source": [
    "df"
   ]
  },
  {
   "cell_type": "code",
   "execution_count": 21,
   "id": "3fc13bbf",
   "metadata": {
    "execution": {
     "iopub.execute_input": "2023-08-15T18:07:10.320399Z",
     "iopub.status.busy": "2023-08-15T18:07:10.319484Z",
     "iopub.status.idle": "2023-08-15T18:07:10.347676Z",
     "shell.execute_reply": "2023-08-15T18:07:10.346294Z"
    },
    "papermill": {
     "duration": 0.054885,
     "end_time": "2023-08-15T18:07:10.350727",
     "exception": false,
     "start_time": "2023-08-15T18:07:10.295842",
     "status": "completed"
    },
    "tags": []
   },
   "outputs": [
    {
     "name": "stdout",
     "output_type": "stream",
     "text": [
      "<class 'pandas.core.frame.DataFrame'>\n",
      "Index: 5 entries, Virat Kohli to Rohit Sharma\n",
      "Data columns (total 7 columns):\n",
      " #   Column          Non-Null Count  Dtype \n",
      "---  ------          --------------  ----- \n",
      " 0   Country         5 non-null      object\n",
      " 1   Role            5 non-null      object\n",
      " 2   Batting_Style   5 non-null      object\n",
      " 3   Bowling_Style   5 non-null      object\n",
      " 4   Matches_Played  5 non-null      int64 \n",
      " 5   Runs_Scored     5 non-null      int64 \n",
      " 6   Wickets_Taken   5 non-null      int64 \n",
      "dtypes: int64(3), object(4)\n",
      "memory usage: 320.0+ bytes\n"
     ]
    }
   ],
   "source": [
    "df.info()"
   ]
  },
  {
   "cell_type": "code",
   "execution_count": 22,
   "id": "1b2713c6",
   "metadata": {
    "execution": {
     "iopub.execute_input": "2023-08-15T18:07:10.391517Z",
     "iopub.status.busy": "2023-08-15T18:07:10.391048Z",
     "iopub.status.idle": "2023-08-15T18:07:10.398932Z",
     "shell.execute_reply": "2023-08-15T18:07:10.397721Z"
    },
    "papermill": {
     "duration": 0.03098,
     "end_time": "2023-08-15T18:07:10.401183",
     "exception": false,
     "start_time": "2023-08-15T18:07:10.370203",
     "status": "completed"
    },
    "tags": []
   },
   "outputs": [
    {
     "data": {
      "text/plain": [
       "35"
      ]
     },
     "execution_count": 22,
     "metadata": {},
     "output_type": "execute_result"
    }
   ],
   "source": [
    "df.size"
   ]
  },
  {
   "cell_type": "code",
   "execution_count": 23,
   "id": "59833790",
   "metadata": {
    "execution": {
     "iopub.execute_input": "2023-08-15T18:07:10.442409Z",
     "iopub.status.busy": "2023-08-15T18:07:10.441900Z",
     "iopub.status.idle": "2023-08-15T18:07:10.449435Z",
     "shell.execute_reply": "2023-08-15T18:07:10.448077Z"
    },
    "papermill": {
     "duration": 0.031123,
     "end_time": "2023-08-15T18:07:10.451856",
     "exception": false,
     "start_time": "2023-08-15T18:07:10.420733",
     "status": "completed"
    },
    "tags": []
   },
   "outputs": [
    {
     "data": {
      "text/plain": [
       "(5, 7)"
      ]
     },
     "execution_count": 23,
     "metadata": {},
     "output_type": "execute_result"
    }
   ],
   "source": [
    "df.shape"
   ]
  },
  {
   "cell_type": "code",
   "execution_count": 24,
   "id": "6b2a08c6",
   "metadata": {
    "execution": {
     "iopub.execute_input": "2023-08-15T18:07:10.492477Z",
     "iopub.status.busy": "2023-08-15T18:07:10.492017Z",
     "iopub.status.idle": "2023-08-15T18:07:10.517049Z",
     "shell.execute_reply": "2023-08-15T18:07:10.515904Z"
    },
    "papermill": {
     "duration": 0.048018,
     "end_time": "2023-08-15T18:07:10.519308",
     "exception": false,
     "start_time": "2023-08-15T18:07:10.471290",
     "status": "completed"
    },
    "tags": []
   },
   "outputs": [
    {
     "data": {
      "text/html": [
       "<div>\n",
       "<style scoped>\n",
       "    .dataframe tbody tr th:only-of-type {\n",
       "        vertical-align: middle;\n",
       "    }\n",
       "\n",
       "    .dataframe tbody tr th {\n",
       "        vertical-align: top;\n",
       "    }\n",
       "\n",
       "    .dataframe thead th {\n",
       "        text-align: right;\n",
       "    }\n",
       "</style>\n",
       "<table border=\"1\" class=\"dataframe\">\n",
       "  <thead>\n",
       "    <tr style=\"text-align: right;\">\n",
       "      <th></th>\n",
       "      <th>Matches_Played</th>\n",
       "      <th>Runs_Scored</th>\n",
       "      <th>Wickets_Taken</th>\n",
       "    </tr>\n",
       "  </thead>\n",
       "  <tbody>\n",
       "    <tr>\n",
       "      <th>count</th>\n",
       "      <td>5.000000</td>\n",
       "      <td>5.000000</td>\n",
       "      <td>5.000000</td>\n",
       "    </tr>\n",
       "    <tr>\n",
       "      <th>mean</th>\n",
       "      <td>174.400000</td>\n",
       "      <td>8855.600000</td>\n",
       "      <td>21.400000</td>\n",
       "    </tr>\n",
       "    <tr>\n",
       "      <th>std</th>\n",
       "      <td>63.626252</td>\n",
       "      <td>2014.271283</td>\n",
       "      <td>15.883954</td>\n",
       "    </tr>\n",
       "    <tr>\n",
       "      <th>min</th>\n",
       "      <td>102.000000</td>\n",
       "      <td>7115.000000</td>\n",
       "      <td>4.000000</td>\n",
       "    </tr>\n",
       "    <tr>\n",
       "      <th>25%</th>\n",
       "      <td>139.000000</td>\n",
       "      <td>7540.000000</td>\n",
       "      <td>8.000000</td>\n",
       "    </tr>\n",
       "    <tr>\n",
       "      <th>50%</th>\n",
       "      <td>150.000000</td>\n",
       "      <td>8249.000000</td>\n",
       "      <td>23.000000</td>\n",
       "    </tr>\n",
       "    <tr>\n",
       "      <th>75%</th>\n",
       "      <td>227.000000</td>\n",
       "      <td>9205.000000</td>\n",
       "      <td>29.000000</td>\n",
       "    </tr>\n",
       "    <tr>\n",
       "      <th>max</th>\n",
       "      <td>254.000000</td>\n",
       "      <td>12169.000000</td>\n",
       "      <td>43.000000</td>\n",
       "    </tr>\n",
       "  </tbody>\n",
       "</table>\n",
       "</div>"
      ],
      "text/plain": [
       "       Matches_Played   Runs_Scored  Wickets_Taken\n",
       "count        5.000000      5.000000       5.000000\n",
       "mean       174.400000   8855.600000      21.400000\n",
       "std         63.626252   2014.271283      15.883954\n",
       "min        102.000000   7115.000000       4.000000\n",
       "25%        139.000000   7540.000000       8.000000\n",
       "50%        150.000000   8249.000000      23.000000\n",
       "75%        227.000000   9205.000000      29.000000\n",
       "max        254.000000  12169.000000      43.000000"
      ]
     },
     "execution_count": 24,
     "metadata": {},
     "output_type": "execute_result"
    }
   ],
   "source": [
    "df.describe()"
   ]
  },
  {
   "cell_type": "code",
   "execution_count": 25,
   "id": "6ef0eba3",
   "metadata": {
    "execution": {
     "iopub.execute_input": "2023-08-15T18:07:10.563147Z",
     "iopub.status.busy": "2023-08-15T18:07:10.561681Z",
     "iopub.status.idle": "2023-08-15T18:07:10.570983Z",
     "shell.execute_reply": "2023-08-15T18:07:10.569494Z"
    },
    "papermill": {
     "duration": 0.033701,
     "end_time": "2023-08-15T18:07:10.573520",
     "exception": false,
     "start_time": "2023-08-15T18:07:10.539819",
     "status": "completed"
    },
    "tags": []
   },
   "outputs": [
    {
     "data": {
      "text/plain": [
       "Country           object\n",
       "Role              object\n",
       "Batting_Style     object\n",
       "Bowling_Style     object\n",
       "Matches_Played     int64\n",
       "Runs_Scored        int64\n",
       "Wickets_Taken      int64\n",
       "dtype: object"
      ]
     },
     "execution_count": 25,
     "metadata": {},
     "output_type": "execute_result"
    }
   ],
   "source": [
    "df.dtypes"
   ]
  },
  {
   "cell_type": "code",
   "execution_count": 26,
   "id": "d69f2f7f",
   "metadata": {
    "execution": {
     "iopub.execute_input": "2023-08-15T18:07:10.618454Z",
     "iopub.status.busy": "2023-08-15T18:07:10.616946Z",
     "iopub.status.idle": "2023-08-15T18:07:10.631854Z",
     "shell.execute_reply": "2023-08-15T18:07:10.630336Z"
    },
    "papermill": {
     "duration": 0.03872,
     "end_time": "2023-08-15T18:07:10.634256",
     "exception": false,
     "start_time": "2023-08-15T18:07:10.595536",
     "status": "completed"
    },
    "tags": []
   },
   "outputs": [
    {
     "data": {
      "text/html": [
       "<div>\n",
       "<style scoped>\n",
       "    .dataframe tbody tr th:only-of-type {\n",
       "        vertical-align: middle;\n",
       "    }\n",
       "\n",
       "    .dataframe tbody tr th {\n",
       "        vertical-align: top;\n",
       "    }\n",
       "\n",
       "    .dataframe thead th {\n",
       "        text-align: right;\n",
       "    }\n",
       "</style>\n",
       "<table border=\"1\" class=\"dataframe\">\n",
       "  <thead>\n",
       "    <tr style=\"text-align: right;\">\n",
       "      <th></th>\n",
       "      <th>Country</th>\n",
       "      <th>Role</th>\n",
       "      <th>Batting_Style</th>\n",
       "      <th>Bowling_Style</th>\n",
       "      <th>Matches_Played</th>\n",
       "      <th>Runs_Scored</th>\n",
       "      <th>Wickets_Taken</th>\n",
       "    </tr>\n",
       "  </thead>\n",
       "  <tbody>\n",
       "    <tr>\n",
       "      <th>Virat Kohli</th>\n",
       "      <td>India</td>\n",
       "      <td>Batsman</td>\n",
       "      <td>Right-handed</td>\n",
       "      <td>Right-arm medium</td>\n",
       "      <td>254</td>\n",
       "      <td>12169</td>\n",
       "      <td>4</td>\n",
       "    </tr>\n",
       "    <tr>\n",
       "      <th>Steve Smith</th>\n",
       "      <td>Australia</td>\n",
       "      <td>Batsman</td>\n",
       "      <td>Right-handed</td>\n",
       "      <td>Right-arm leg spin</td>\n",
       "      <td>139</td>\n",
       "      <td>7540</td>\n",
       "      <td>43</td>\n",
       "    </tr>\n",
       "    <tr>\n",
       "      <th>Kane Williamson</th>\n",
       "      <td>New Zealand</td>\n",
       "      <td>Batsman</td>\n",
       "      <td>Right-handed</td>\n",
       "      <td>Right-arm off spin</td>\n",
       "      <td>150</td>\n",
       "      <td>7115</td>\n",
       "      <td>29</td>\n",
       "    </tr>\n",
       "    <tr>\n",
       "      <th>Joe Root</th>\n",
       "      <td>England</td>\n",
       "      <td>Batsman</td>\n",
       "      <td>Right-handed</td>\n",
       "      <td>Right-arm off spin</td>\n",
       "      <td>102</td>\n",
       "      <td>8249</td>\n",
       "      <td>23</td>\n",
       "    </tr>\n",
       "    <tr>\n",
       "      <th>Rohit Sharma</th>\n",
       "      <td>India</td>\n",
       "      <td>Batsman</td>\n",
       "      <td>Right-handed</td>\n",
       "      <td>Right-arm off spin</td>\n",
       "      <td>227</td>\n",
       "      <td>9205</td>\n",
       "      <td>8</td>\n",
       "    </tr>\n",
       "  </tbody>\n",
       "</table>\n",
       "</div>"
      ],
      "text/plain": [
       "                     Country     Role Batting_Style       Bowling_Style  \\\n",
       "Virat Kohli            India  Batsman  Right-handed    Right-arm medium   \n",
       "Steve Smith        Australia  Batsman  Right-handed  Right-arm leg spin   \n",
       "Kane Williamson  New Zealand  Batsman  Right-handed  Right-arm off spin   \n",
       "Joe Root             England  Batsman  Right-handed  Right-arm off spin   \n",
       "Rohit Sharma           India  Batsman  Right-handed  Right-arm off spin   \n",
       "\n",
       "                 Matches_Played  Runs_Scored  Wickets_Taken  \n",
       "Virat Kohli                 254        12169              4  \n",
       "Steve Smith                 139         7540             43  \n",
       "Kane Williamson             150         7115             29  \n",
       "Joe Root                    102         8249             23  \n",
       "Rohit Sharma                227         9205              8  "
      ]
     },
     "execution_count": 26,
     "metadata": {},
     "output_type": "execute_result"
    }
   ],
   "source": [
    "df"
   ]
  },
  {
   "cell_type": "code",
   "execution_count": 27,
   "id": "fd768c44",
   "metadata": {
    "execution": {
     "iopub.execute_input": "2023-08-15T18:07:10.678111Z",
     "iopub.status.busy": "2023-08-15T18:07:10.676880Z",
     "iopub.status.idle": "2023-08-15T18:07:10.686801Z",
     "shell.execute_reply": "2023-08-15T18:07:10.685559Z"
    },
    "papermill": {
     "duration": 0.033947,
     "end_time": "2023-08-15T18:07:10.688959",
     "exception": false,
     "start_time": "2023-08-15T18:07:10.655012",
     "status": "completed"
    },
    "tags": []
   },
   "outputs": [
    {
     "data": {
      "text/plain": [
       "Country                    Australia\n",
       "Role                         Batsman\n",
       "Batting_Style           Right-handed\n",
       "Bowling_Style     Right-arm leg spin\n",
       "Matches_Played                   139\n",
       "Runs_Scored                     7540\n",
       "Wickets_Taken                     43\n",
       "Name: Steve Smith, dtype: object"
      ]
     },
     "execution_count": 27,
     "metadata": {},
     "output_type": "execute_result"
    }
   ],
   "source": [
    "df.loc['Steve Smith']"
   ]
  },
  {
   "cell_type": "code",
   "execution_count": 28,
   "id": "e970fe7b",
   "metadata": {
    "execution": {
     "iopub.execute_input": "2023-08-15T18:07:10.732165Z",
     "iopub.status.busy": "2023-08-15T18:07:10.731024Z",
     "iopub.status.idle": "2023-08-15T18:07:10.748542Z",
     "shell.execute_reply": "2023-08-15T18:07:10.747399Z"
    },
    "papermill": {
     "duration": 0.041977,
     "end_time": "2023-08-15T18:07:10.751240",
     "exception": false,
     "start_time": "2023-08-15T18:07:10.709263",
     "status": "completed"
    },
    "tags": []
   },
   "outputs": [
    {
     "data": {
      "text/html": [
       "<div>\n",
       "<style scoped>\n",
       "    .dataframe tbody tr th:only-of-type {\n",
       "        vertical-align: middle;\n",
       "    }\n",
       "\n",
       "    .dataframe tbody tr th {\n",
       "        vertical-align: top;\n",
       "    }\n",
       "\n",
       "    .dataframe thead th {\n",
       "        text-align: right;\n",
       "    }\n",
       "</style>\n",
       "<table border=\"1\" class=\"dataframe\">\n",
       "  <thead>\n",
       "    <tr style=\"text-align: right;\">\n",
       "      <th></th>\n",
       "      <th>Country</th>\n",
       "      <th>Role</th>\n",
       "      <th>Batting_Style</th>\n",
       "      <th>Bowling_Style</th>\n",
       "      <th>Matches_Played</th>\n",
       "      <th>Runs_Scored</th>\n",
       "      <th>Wickets_Taken</th>\n",
       "    </tr>\n",
       "  </thead>\n",
       "  <tbody>\n",
       "    <tr>\n",
       "      <th>Virat Kohli</th>\n",
       "      <td>India</td>\n",
       "      <td>Batsman</td>\n",
       "      <td>Right-handed</td>\n",
       "      <td>Right-arm medium</td>\n",
       "      <td>254</td>\n",
       "      <td>12169</td>\n",
       "      <td>4</td>\n",
       "    </tr>\n",
       "    <tr>\n",
       "      <th>Joe Root</th>\n",
       "      <td>England</td>\n",
       "      <td>Batsman</td>\n",
       "      <td>Right-handed</td>\n",
       "      <td>Right-arm off spin</td>\n",
       "      <td>102</td>\n",
       "      <td>8249</td>\n",
       "      <td>23</td>\n",
       "    </tr>\n",
       "    <tr>\n",
       "      <th>Rohit Sharma</th>\n",
       "      <td>India</td>\n",
       "      <td>Batsman</td>\n",
       "      <td>Right-handed</td>\n",
       "      <td>Right-arm off spin</td>\n",
       "      <td>227</td>\n",
       "      <td>9205</td>\n",
       "      <td>8</td>\n",
       "    </tr>\n",
       "  </tbody>\n",
       "</table>\n",
       "</div>"
      ],
      "text/plain": [
       "              Country     Role Batting_Style       Bowling_Style  \\\n",
       "Virat Kohli     India  Batsman  Right-handed    Right-arm medium   \n",
       "Joe Root      England  Batsman  Right-handed  Right-arm off spin   \n",
       "Rohit Sharma    India  Batsman  Right-handed  Right-arm off spin   \n",
       "\n",
       "              Matches_Played  Runs_Scored  Wickets_Taken  \n",
       "Virat Kohli              254        12169              4  \n",
       "Joe Root                 102         8249             23  \n",
       "Rohit Sharma             227         9205              8  "
      ]
     },
     "execution_count": 28,
     "metadata": {},
     "output_type": "execute_result"
    }
   ],
   "source": [
    "df.loc[df['Runs_Scored']>8000]"
   ]
  },
  {
   "cell_type": "code",
   "execution_count": 29,
   "id": "ffa60a5a",
   "metadata": {
    "execution": {
     "iopub.execute_input": "2023-08-15T18:07:10.795149Z",
     "iopub.status.busy": "2023-08-15T18:07:10.794506Z",
     "iopub.status.idle": "2023-08-15T18:07:10.806206Z",
     "shell.execute_reply": "2023-08-15T18:07:10.805015Z"
    },
    "papermill": {
     "duration": 0.036299,
     "end_time": "2023-08-15T18:07:10.808414",
     "exception": false,
     "start_time": "2023-08-15T18:07:10.772115",
     "status": "completed"
    },
    "tags": []
   },
   "outputs": [
    {
     "data": {
      "text/html": [
       "<div>\n",
       "<style scoped>\n",
       "    .dataframe tbody tr th:only-of-type {\n",
       "        vertical-align: middle;\n",
       "    }\n",
       "\n",
       "    .dataframe tbody tr th {\n",
       "        vertical-align: top;\n",
       "    }\n",
       "\n",
       "    .dataframe thead th {\n",
       "        text-align: right;\n",
       "    }\n",
       "</style>\n",
       "<table border=\"1\" class=\"dataframe\">\n",
       "  <thead>\n",
       "    <tr style=\"text-align: right;\">\n",
       "      <th></th>\n",
       "      <th>Matches_Played</th>\n",
       "      <th>Runs_Scored</th>\n",
       "    </tr>\n",
       "  </thead>\n",
       "  <tbody>\n",
       "    <tr>\n",
       "      <th>Virat Kohli</th>\n",
       "      <td>254</td>\n",
       "      <td>12169</td>\n",
       "    </tr>\n",
       "    <tr>\n",
       "      <th>Joe Root</th>\n",
       "      <td>102</td>\n",
       "      <td>8249</td>\n",
       "    </tr>\n",
       "    <tr>\n",
       "      <th>Rohit Sharma</th>\n",
       "      <td>227</td>\n",
       "      <td>9205</td>\n",
       "    </tr>\n",
       "  </tbody>\n",
       "</table>\n",
       "</div>"
      ],
      "text/plain": [
       "              Matches_Played  Runs_Scored\n",
       "Virat Kohli              254        12169\n",
       "Joe Root                 102         8249\n",
       "Rohit Sharma             227         9205"
      ]
     },
     "execution_count": 29,
     "metadata": {},
     "output_type": "execute_result"
    }
   ],
   "source": [
    "df.loc[df['Runs_Scored']>8000,[\"Matches_Played\",\"Runs_Scored\"]]"
   ]
  },
  {
   "cell_type": "code",
   "execution_count": 30,
   "id": "bcf4fad1",
   "metadata": {
    "execution": {
     "iopub.execute_input": "2023-08-15T18:07:10.852182Z",
     "iopub.status.busy": "2023-08-15T18:07:10.851769Z",
     "iopub.status.idle": "2023-08-15T18:07:10.864800Z",
     "shell.execute_reply": "2023-08-15T18:07:10.863793Z"
    },
    "papermill": {
     "duration": 0.037582,
     "end_time": "2023-08-15T18:07:10.866945",
     "exception": false,
     "start_time": "2023-08-15T18:07:10.829363",
     "status": "completed"
    },
    "tags": []
   },
   "outputs": [
    {
     "data": {
      "text/html": [
       "<div>\n",
       "<style scoped>\n",
       "    .dataframe tbody tr th:only-of-type {\n",
       "        vertical-align: middle;\n",
       "    }\n",
       "\n",
       "    .dataframe tbody tr th {\n",
       "        vertical-align: top;\n",
       "    }\n",
       "\n",
       "    .dataframe thead th {\n",
       "        text-align: right;\n",
       "    }\n",
       "</style>\n",
       "<table border=\"1\" class=\"dataframe\">\n",
       "  <thead>\n",
       "    <tr style=\"text-align: right;\">\n",
       "      <th></th>\n",
       "      <th>Country</th>\n",
       "      <th>Role</th>\n",
       "      <th>Batting_Style</th>\n",
       "      <th>Matches_Played</th>\n",
       "      <th>Runs_Scored</th>\n",
       "      <th>Wickets_Taken</th>\n",
       "    </tr>\n",
       "  </thead>\n",
       "  <tbody>\n",
       "    <tr>\n",
       "      <th>Virat Kohli</th>\n",
       "      <td>India</td>\n",
       "      <td>Batsman</td>\n",
       "      <td>Right-handed</td>\n",
       "      <td>254</td>\n",
       "      <td>12169</td>\n",
       "      <td>4</td>\n",
       "    </tr>\n",
       "    <tr>\n",
       "      <th>Steve Smith</th>\n",
       "      <td>Australia</td>\n",
       "      <td>Batsman</td>\n",
       "      <td>Right-handed</td>\n",
       "      <td>139</td>\n",
       "      <td>7540</td>\n",
       "      <td>43</td>\n",
       "    </tr>\n",
       "    <tr>\n",
       "      <th>Kane Williamson</th>\n",
       "      <td>New Zealand</td>\n",
       "      <td>Batsman</td>\n",
       "      <td>Right-handed</td>\n",
       "      <td>150</td>\n",
       "      <td>7115</td>\n",
       "      <td>29</td>\n",
       "    </tr>\n",
       "    <tr>\n",
       "      <th>Joe Root</th>\n",
       "      <td>England</td>\n",
       "      <td>Batsman</td>\n",
       "      <td>Right-handed</td>\n",
       "      <td>102</td>\n",
       "      <td>8249</td>\n",
       "      <td>23</td>\n",
       "    </tr>\n",
       "    <tr>\n",
       "      <th>Rohit Sharma</th>\n",
       "      <td>India</td>\n",
       "      <td>Batsman</td>\n",
       "      <td>Right-handed</td>\n",
       "      <td>227</td>\n",
       "      <td>9205</td>\n",
       "      <td>8</td>\n",
       "    </tr>\n",
       "  </tbody>\n",
       "</table>\n",
       "</div>"
      ],
      "text/plain": [
       "                     Country     Role Batting_Style  Matches_Played  \\\n",
       "Virat Kohli            India  Batsman  Right-handed             254   \n",
       "Steve Smith        Australia  Batsman  Right-handed             139   \n",
       "Kane Williamson  New Zealand  Batsman  Right-handed             150   \n",
       "Joe Root             England  Batsman  Right-handed             102   \n",
       "Rohit Sharma           India  Batsman  Right-handed             227   \n",
       "\n",
       "                 Runs_Scored  Wickets_Taken  \n",
       "Virat Kohli            12169              4  \n",
       "Steve Smith             7540             43  \n",
       "Kane Williamson         7115             29  \n",
       "Joe Root                8249             23  \n",
       "Rohit Sharma            9205              8  "
      ]
     },
     "execution_count": 30,
     "metadata": {},
     "output_type": "execute_result"
    }
   ],
   "source": [
    "df.drop(\"Bowling_Style\",axis=\"columns\")"
   ]
  },
  {
   "cell_type": "code",
   "execution_count": 31,
   "id": "9b1d3c68",
   "metadata": {
    "execution": {
     "iopub.execute_input": "2023-08-15T18:07:10.911548Z",
     "iopub.status.busy": "2023-08-15T18:07:10.911042Z",
     "iopub.status.idle": "2023-08-15T18:07:10.925593Z",
     "shell.execute_reply": "2023-08-15T18:07:10.924068Z"
    },
    "papermill": {
     "duration": 0.040056,
     "end_time": "2023-08-15T18:07:10.927988",
     "exception": false,
     "start_time": "2023-08-15T18:07:10.887932",
     "status": "completed"
    },
    "tags": []
   },
   "outputs": [
    {
     "data": {
      "text/html": [
       "<div>\n",
       "<style scoped>\n",
       "    .dataframe tbody tr th:only-of-type {\n",
       "        vertical-align: middle;\n",
       "    }\n",
       "\n",
       "    .dataframe tbody tr th {\n",
       "        vertical-align: top;\n",
       "    }\n",
       "\n",
       "    .dataframe thead th {\n",
       "        text-align: right;\n",
       "    }\n",
       "</style>\n",
       "<table border=\"1\" class=\"dataframe\">\n",
       "  <thead>\n",
       "    <tr style=\"text-align: right;\">\n",
       "      <th></th>\n",
       "      <th>Country</th>\n",
       "      <th>Role</th>\n",
       "      <th>Batting_Style</th>\n",
       "      <th>Bowling_Style</th>\n",
       "      <th>Matches_Played</th>\n",
       "      <th>Runs_Scored</th>\n",
       "      <th>Wickets_Taken</th>\n",
       "    </tr>\n",
       "  </thead>\n",
       "  <tbody>\n",
       "    <tr>\n",
       "      <th>Virat Kohli</th>\n",
       "      <td>India</td>\n",
       "      <td>Batsman</td>\n",
       "      <td>Right-handed</td>\n",
       "      <td>Right-arm medium</td>\n",
       "      <td>254</td>\n",
       "      <td>12169</td>\n",
       "      <td>4</td>\n",
       "    </tr>\n",
       "    <tr>\n",
       "      <th>Steve Smith</th>\n",
       "      <td>Australia</td>\n",
       "      <td>Batsman</td>\n",
       "      <td>Right-handed</td>\n",
       "      <td>Right-arm leg spin</td>\n",
       "      <td>139</td>\n",
       "      <td>7540</td>\n",
       "      <td>43</td>\n",
       "    </tr>\n",
       "    <tr>\n",
       "      <th>Kane Williamson</th>\n",
       "      <td>New Zealand</td>\n",
       "      <td>Batsman</td>\n",
       "      <td>Right-handed</td>\n",
       "      <td>Right-arm off spin</td>\n",
       "      <td>150</td>\n",
       "      <td>7115</td>\n",
       "      <td>29</td>\n",
       "    </tr>\n",
       "    <tr>\n",
       "      <th>Joe Root</th>\n",
       "      <td>England</td>\n",
       "      <td>Batsman</td>\n",
       "      <td>Right-handed</td>\n",
       "      <td>Right-arm off spin</td>\n",
       "      <td>102</td>\n",
       "      <td>8249</td>\n",
       "      <td>23</td>\n",
       "    </tr>\n",
       "    <tr>\n",
       "      <th>Rohit Sharma</th>\n",
       "      <td>India</td>\n",
       "      <td>Batsman</td>\n",
       "      <td>Right-handed</td>\n",
       "      <td>Right-arm off spin</td>\n",
       "      <td>227</td>\n",
       "      <td>9205</td>\n",
       "      <td>8</td>\n",
       "    </tr>\n",
       "  </tbody>\n",
       "</table>\n",
       "</div>"
      ],
      "text/plain": [
       "                     Country     Role Batting_Style       Bowling_Style  \\\n",
       "Virat Kohli            India  Batsman  Right-handed    Right-arm medium   \n",
       "Steve Smith        Australia  Batsman  Right-handed  Right-arm leg spin   \n",
       "Kane Williamson  New Zealand  Batsman  Right-handed  Right-arm off spin   \n",
       "Joe Root             England  Batsman  Right-handed  Right-arm off spin   \n",
       "Rohit Sharma           India  Batsman  Right-handed  Right-arm off spin   \n",
       "\n",
       "                 Matches_Played  Runs_Scored  Wickets_Taken  \n",
       "Virat Kohli                 254        12169              4  \n",
       "Steve Smith                 139         7540             43  \n",
       "Kane Williamson             150         7115             29  \n",
       "Joe Root                    102         8249             23  \n",
       "Rohit Sharma                227         9205              8  "
      ]
     },
     "execution_count": 31,
     "metadata": {},
     "output_type": "execute_result"
    }
   ],
   "source": [
    "df"
   ]
  },
  {
   "cell_type": "code",
   "execution_count": 32,
   "id": "1957df9d",
   "metadata": {
    "execution": {
     "iopub.execute_input": "2023-08-15T18:07:10.973197Z",
     "iopub.status.busy": "2023-08-15T18:07:10.972732Z",
     "iopub.status.idle": "2023-08-15T18:07:10.987549Z",
     "shell.execute_reply": "2023-08-15T18:07:10.986309Z"
    },
    "papermill": {
     "duration": 0.040723,
     "end_time": "2023-08-15T18:07:10.990192",
     "exception": false,
     "start_time": "2023-08-15T18:07:10.949469",
     "status": "completed"
    },
    "tags": []
   },
   "outputs": [
    {
     "data": {
      "text/html": [
       "<div>\n",
       "<style scoped>\n",
       "    .dataframe tbody tr th:only-of-type {\n",
       "        vertical-align: middle;\n",
       "    }\n",
       "\n",
       "    .dataframe tbody tr th {\n",
       "        vertical-align: top;\n",
       "    }\n",
       "\n",
       "    .dataframe thead th {\n",
       "        text-align: right;\n",
       "    }\n",
       "</style>\n",
       "<table border=\"1\" class=\"dataframe\">\n",
       "  <thead>\n",
       "    <tr style=\"text-align: right;\">\n",
       "      <th></th>\n",
       "      <th>Country</th>\n",
       "      <th>Role</th>\n",
       "      <th>Batting_Style</th>\n",
       "      <th>Matches_Played</th>\n",
       "      <th>Runs_Scored</th>\n",
       "    </tr>\n",
       "  </thead>\n",
       "  <tbody>\n",
       "    <tr>\n",
       "      <th>Virat Kohli</th>\n",
       "      <td>India</td>\n",
       "      <td>Batsman</td>\n",
       "      <td>Right-handed</td>\n",
       "      <td>254</td>\n",
       "      <td>12169</td>\n",
       "    </tr>\n",
       "    <tr>\n",
       "      <th>Steve Smith</th>\n",
       "      <td>Australia</td>\n",
       "      <td>Batsman</td>\n",
       "      <td>Right-handed</td>\n",
       "      <td>139</td>\n",
       "      <td>7540</td>\n",
       "    </tr>\n",
       "    <tr>\n",
       "      <th>Kane Williamson</th>\n",
       "      <td>New Zealand</td>\n",
       "      <td>Batsman</td>\n",
       "      <td>Right-handed</td>\n",
       "      <td>150</td>\n",
       "      <td>7115</td>\n",
       "    </tr>\n",
       "    <tr>\n",
       "      <th>Joe Root</th>\n",
       "      <td>England</td>\n",
       "      <td>Batsman</td>\n",
       "      <td>Right-handed</td>\n",
       "      <td>102</td>\n",
       "      <td>8249</td>\n",
       "    </tr>\n",
       "    <tr>\n",
       "      <th>Rohit Sharma</th>\n",
       "      <td>India</td>\n",
       "      <td>Batsman</td>\n",
       "      <td>Right-handed</td>\n",
       "      <td>227</td>\n",
       "      <td>9205</td>\n",
       "    </tr>\n",
       "  </tbody>\n",
       "</table>\n",
       "</div>"
      ],
      "text/plain": [
       "                     Country     Role Batting_Style  Matches_Played  \\\n",
       "Virat Kohli            India  Batsman  Right-handed             254   \n",
       "Steve Smith        Australia  Batsman  Right-handed             139   \n",
       "Kane Williamson  New Zealand  Batsman  Right-handed             150   \n",
       "Joe Root             England  Batsman  Right-handed             102   \n",
       "Rohit Sharma           India  Batsman  Right-handed             227   \n",
       "\n",
       "                 Runs_Scored  \n",
       "Virat Kohli            12169  \n",
       "Steve Smith             7540  \n",
       "Kane Williamson         7115  \n",
       "Joe Root                8249  \n",
       "Rohit Sharma            9205  "
      ]
     },
     "execution_count": 32,
     "metadata": {},
     "output_type": "execute_result"
    }
   ],
   "source": [
    "df.drop(['Bowling_Style','Wickets_Taken'],axis=\"columns\")"
   ]
  },
  {
   "cell_type": "code",
   "execution_count": 33,
   "id": "6204271f",
   "metadata": {
    "execution": {
     "iopub.execute_input": "2023-08-15T18:07:11.040313Z",
     "iopub.status.busy": "2023-08-15T18:07:11.039886Z",
     "iopub.status.idle": "2023-08-15T18:07:11.057832Z",
     "shell.execute_reply": "2023-08-15T18:07:11.056526Z"
    },
    "papermill": {
     "duration": 0.04582,
     "end_time": "2023-08-15T18:07:11.060684",
     "exception": false,
     "start_time": "2023-08-15T18:07:11.014864",
     "status": "completed"
    },
    "tags": []
   },
   "outputs": [
    {
     "data": {
      "text/html": [
       "<div>\n",
       "<style scoped>\n",
       "    .dataframe tbody tr th:only-of-type {\n",
       "        vertical-align: middle;\n",
       "    }\n",
       "\n",
       "    .dataframe tbody tr th {\n",
       "        vertical-align: top;\n",
       "    }\n",
       "\n",
       "    .dataframe thead th {\n",
       "        text-align: right;\n",
       "    }\n",
       "</style>\n",
       "<table border=\"1\" class=\"dataframe\">\n",
       "  <thead>\n",
       "    <tr style=\"text-align: right;\">\n",
       "      <th></th>\n",
       "      <th>Country</th>\n",
       "      <th>Role</th>\n",
       "      <th>Batting_Style</th>\n",
       "      <th>Bowling_Style</th>\n",
       "      <th>Matches_Played</th>\n",
       "      <th>Runs_Scored</th>\n",
       "      <th>Wickets_Taken</th>\n",
       "      <th>Average</th>\n",
       "    </tr>\n",
       "  </thead>\n",
       "  <tbody>\n",
       "    <tr>\n",
       "      <th>Virat Kohli</th>\n",
       "      <td>India</td>\n",
       "      <td>Batsman</td>\n",
       "      <td>Right-handed</td>\n",
       "      <td>Right-arm medium</td>\n",
       "      <td>254</td>\n",
       "      <td>12169</td>\n",
       "      <td>4</td>\n",
       "      <td>47.91</td>\n",
       "    </tr>\n",
       "    <tr>\n",
       "      <th>Steve Smith</th>\n",
       "      <td>Australia</td>\n",
       "      <td>Batsman</td>\n",
       "      <td>Right-handed</td>\n",
       "      <td>Right-arm leg spin</td>\n",
       "      <td>139</td>\n",
       "      <td>7540</td>\n",
       "      <td>43</td>\n",
       "      <td>54.24</td>\n",
       "    </tr>\n",
       "    <tr>\n",
       "      <th>Kane Williamson</th>\n",
       "      <td>New Zealand</td>\n",
       "      <td>Batsman</td>\n",
       "      <td>Right-handed</td>\n",
       "      <td>Right-arm off spin</td>\n",
       "      <td>150</td>\n",
       "      <td>7115</td>\n",
       "      <td>29</td>\n",
       "      <td>47.43</td>\n",
       "    </tr>\n",
       "    <tr>\n",
       "      <th>Joe Root</th>\n",
       "      <td>England</td>\n",
       "      <td>Batsman</td>\n",
       "      <td>Right-handed</td>\n",
       "      <td>Right-arm off spin</td>\n",
       "      <td>102</td>\n",
       "      <td>8249</td>\n",
       "      <td>23</td>\n",
       "      <td>80.87</td>\n",
       "    </tr>\n",
       "    <tr>\n",
       "      <th>Rohit Sharma</th>\n",
       "      <td>India</td>\n",
       "      <td>Batsman</td>\n",
       "      <td>Right-handed</td>\n",
       "      <td>Right-arm off spin</td>\n",
       "      <td>227</td>\n",
       "      <td>9205</td>\n",
       "      <td>8</td>\n",
       "      <td>40.55</td>\n",
       "    </tr>\n",
       "  </tbody>\n",
       "</table>\n",
       "</div>"
      ],
      "text/plain": [
       "                     Country     Role Batting_Style       Bowling_Style  \\\n",
       "Virat Kohli            India  Batsman  Right-handed    Right-arm medium   \n",
       "Steve Smith        Australia  Batsman  Right-handed  Right-arm leg spin   \n",
       "Kane Williamson  New Zealand  Batsman  Right-handed  Right-arm off spin   \n",
       "Joe Root             England  Batsman  Right-handed  Right-arm off spin   \n",
       "Rohit Sharma           India  Batsman  Right-handed  Right-arm off spin   \n",
       "\n",
       "                 Matches_Played  Runs_Scored  Wickets_Taken  Average  \n",
       "Virat Kohli                 254        12169              4    47.91  \n",
       "Steve Smith                 139         7540             43    54.24  \n",
       "Kane Williamson             150         7115             29    47.43  \n",
       "Joe Root                    102         8249             23    80.87  \n",
       "Rohit Sharma                227         9205              8    40.55  "
      ]
     },
     "execution_count": 33,
     "metadata": {},
     "output_type": "execute_result"
    }
   ],
   "source": [
    "df['Average'] = round(df['Runs_Scored'] / df['Matches_Played'],2)\n",
    "df"
   ]
  },
  {
   "cell_type": "code",
   "execution_count": 34,
   "id": "7b3dfb28",
   "metadata": {
    "execution": {
     "iopub.execute_input": "2023-08-15T18:07:11.111001Z",
     "iopub.status.busy": "2023-08-15T18:07:11.110584Z",
     "iopub.status.idle": "2023-08-15T18:07:11.115660Z",
     "shell.execute_reply": "2023-08-15T18:07:11.114561Z"
    },
    "papermill": {
     "duration": 0.034312,
     "end_time": "2023-08-15T18:07:11.118547",
     "exception": false,
     "start_time": "2023-08-15T18:07:11.084235",
     "status": "completed"
    },
    "tags": []
   },
   "outputs": [],
   "source": [
    "import matplotlib.pyplot as plt"
   ]
  },
  {
   "cell_type": "code",
   "execution_count": 35,
   "id": "96c501a3",
   "metadata": {
    "execution": {
     "iopub.execute_input": "2023-08-15T18:07:11.167969Z",
     "iopub.status.busy": "2023-08-15T18:07:11.167555Z",
     "iopub.status.idle": "2023-08-15T18:07:11.196917Z",
     "shell.execute_reply": "2023-08-15T18:07:11.195753Z"
    },
    "papermill": {
     "duration": 0.058544,
     "end_time": "2023-08-15T18:07:11.200099",
     "exception": false,
     "start_time": "2023-08-15T18:07:11.141555",
     "status": "completed"
    },
    "tags": []
   },
   "outputs": [],
   "source": [
    "df = pd.read_csv(\"/kaggle/input/chinook-data/itunes_data.csv\")"
   ]
  },
  {
   "cell_type": "code",
   "execution_count": 36,
   "id": "84003488",
   "metadata": {
    "execution": {
     "iopub.execute_input": "2023-08-15T18:07:11.249064Z",
     "iopub.status.busy": "2023-08-15T18:07:11.248647Z",
     "iopub.status.idle": "2023-08-15T18:07:11.267705Z",
     "shell.execute_reply": "2023-08-15T18:07:11.266825Z"
    },
    "papermill": {
     "duration": 0.046431,
     "end_time": "2023-08-15T18:07:11.270424",
     "exception": false,
     "start_time": "2023-08-15T18:07:11.223993",
     "status": "completed"
    },
    "tags": []
   },
   "outputs": [
    {
     "data": {
      "text/html": [
       "<div>\n",
       "<style scoped>\n",
       "    .dataframe tbody tr th:only-of-type {\n",
       "        vertical-align: middle;\n",
       "    }\n",
       "\n",
       "    .dataframe tbody tr th {\n",
       "        vertical-align: top;\n",
       "    }\n",
       "\n",
       "    .dataframe thead th {\n",
       "        text-align: right;\n",
       "    }\n",
       "</style>\n",
       "<table border=\"1\" class=\"dataframe\">\n",
       "  <thead>\n",
       "    <tr style=\"text-align: right;\">\n",
       "      <th></th>\n",
       "      <th>Track</th>\n",
       "      <th>Composer</th>\n",
       "      <th>Milliseconds</th>\n",
       "      <th>Bytes</th>\n",
       "      <th>UnitPrice</th>\n",
       "      <th>Genre</th>\n",
       "      <th>Album</th>\n",
       "      <th>Artist</th>\n",
       "    </tr>\n",
       "  </thead>\n",
       "  <tbody>\n",
       "    <tr>\n",
       "      <th>0</th>\n",
       "      <td>All the Best Cowboys Have Daddy Issues</td>\n",
       "      <td>NaN</td>\n",
       "      <td>2555492</td>\n",
       "      <td>211743651</td>\n",
       "      <td>1.99</td>\n",
       "      <td>TV Shows</td>\n",
       "      <td>Lost, Season 1</td>\n",
       "      <td>Lost</td>\n",
       "    </tr>\n",
       "    <tr>\n",
       "      <th>1</th>\n",
       "      <td>Beira Mar</td>\n",
       "      <td>Gilberto Gil</td>\n",
       "      <td>295444</td>\n",
       "      <td>9597994</td>\n",
       "      <td>0.99</td>\n",
       "      <td>Latin</td>\n",
       "      <td>Unplugged</td>\n",
       "      <td>Eric Clapton</td>\n",
       "    </tr>\n",
       "    <tr>\n",
       "      <th>2</th>\n",
       "      <td>Brasil</td>\n",
       "      <td>Milton Nascimento, Fernando Brant</td>\n",
       "      <td>155428</td>\n",
       "      <td>5252560</td>\n",
       "      <td>0.99</td>\n",
       "      <td>Latin</td>\n",
       "      <td>Milton Nascimento Ao Vivo</td>\n",
       "      <td>Milton Nascimento</td>\n",
       "    </tr>\n",
       "    <tr>\n",
       "      <th>3</th>\n",
       "      <td>Ben Franklin</td>\n",
       "      <td>NaN</td>\n",
       "      <td>1271938</td>\n",
       "      <td>264168080</td>\n",
       "      <td>1.99</td>\n",
       "      <td>Comedy</td>\n",
       "      <td>The Office, Season 3</td>\n",
       "      <td>The Office</td>\n",
       "    </tr>\n",
       "    <tr>\n",
       "      <th>4</th>\n",
       "      <td>O Último Romântico (Ao Vivo)</td>\n",
       "      <td>NaN</td>\n",
       "      <td>231993</td>\n",
       "      <td>7692697</td>\n",
       "      <td>0.99</td>\n",
       "      <td>Latin</td>\n",
       "      <td>Lulu Santos - RCA 100 Anos De Música - Álbum 02</td>\n",
       "      <td>Lulu Santos</td>\n",
       "    </tr>\n",
       "    <tr>\n",
       "      <th>...</th>\n",
       "      <td>...</td>\n",
       "      <td>...</td>\n",
       "      <td>...</td>\n",
       "      <td>...</td>\n",
       "      <td>...</td>\n",
       "      <td>...</td>\n",
       "      <td>...</td>\n",
       "      <td>...</td>\n",
       "    </tr>\n",
       "    <tr>\n",
       "      <th>298</th>\n",
       "      <td>She Loves Me Not</td>\n",
       "      <td>Bill Gould/Mike Bordin/Mike Patton</td>\n",
       "      <td>209867</td>\n",
       "      <td>6887544</td>\n",
       "      <td>0.99</td>\n",
       "      <td>Alternative &amp; Punk</td>\n",
       "      <td>Album Of The Year</td>\n",
       "      <td>Faith No More</td>\n",
       "    </tr>\n",
       "    <tr>\n",
       "      <th>299</th>\n",
       "      <td>Beth</td>\n",
       "      <td>Peter Criss, Stan Penridge, Bob Ezrin</td>\n",
       "      <td>170187</td>\n",
       "      <td>5577807</td>\n",
       "      <td>0.99</td>\n",
       "      <td>Rock</td>\n",
       "      <td>Unplugged [Live]</td>\n",
       "      <td>Kiss</td>\n",
       "    </tr>\n",
       "    <tr>\n",
       "      <th>300</th>\n",
       "      <td>Exploder</td>\n",
       "      <td>Audioslave/Chris Cornell</td>\n",
       "      <td>206053</td>\n",
       "      <td>4948095</td>\n",
       "      <td>0.99</td>\n",
       "      <td>Rock</td>\n",
       "      <td>Audioslave</td>\n",
       "      <td>Audioslave</td>\n",
       "    </tr>\n",
       "    <tr>\n",
       "      <th>301</th>\n",
       "      <td>Os Cegos Do Castelo</td>\n",
       "      <td>Titãs</td>\n",
       "      <td>296829</td>\n",
       "      <td>9868187</td>\n",
       "      <td>0.99</td>\n",
       "      <td>Alternative &amp; Punk</td>\n",
       "      <td>Acústico</td>\n",
       "      <td>Titãs</td>\n",
       "    </tr>\n",
       "    <tr>\n",
       "      <th>302</th>\n",
       "      <td>The Star Spangled Banner</td>\n",
       "      <td>Hendrix, Jimi</td>\n",
       "      <td>43232</td>\n",
       "      <td>1385810</td>\n",
       "      <td>0.99</td>\n",
       "      <td>Rock</td>\n",
       "      <td>Rattle And Hum</td>\n",
       "      <td>U2</td>\n",
       "    </tr>\n",
       "  </tbody>\n",
       "</table>\n",
       "<p>303 rows × 8 columns</p>\n",
       "</div>"
      ],
      "text/plain": [
       "                                      Track  \\\n",
       "0    All the Best Cowboys Have Daddy Issues   \n",
       "1                                 Beira Mar   \n",
       "2                                    Brasil   \n",
       "3                              Ben Franklin   \n",
       "4              O Último Romântico (Ao Vivo)   \n",
       "..                                      ...   \n",
       "298                        She Loves Me Not   \n",
       "299                                    Beth   \n",
       "300                                Exploder   \n",
       "301                     Os Cegos Do Castelo   \n",
       "302                The Star Spangled Banner   \n",
       "\n",
       "                                  Composer  Milliseconds      Bytes  \\\n",
       "0                                      NaN       2555492  211743651   \n",
       "1                             Gilberto Gil        295444    9597994   \n",
       "2        Milton Nascimento, Fernando Brant        155428    5252560   \n",
       "3                                      NaN       1271938  264168080   \n",
       "4                                      NaN        231993    7692697   \n",
       "..                                     ...           ...        ...   \n",
       "298     Bill Gould/Mike Bordin/Mike Patton        209867    6887544   \n",
       "299  Peter Criss, Stan Penridge, Bob Ezrin        170187    5577807   \n",
       "300               Audioslave/Chris Cornell        206053    4948095   \n",
       "301                                  Titãs        296829    9868187   \n",
       "302                          Hendrix, Jimi         43232    1385810   \n",
       "\n",
       "     UnitPrice               Genre  \\\n",
       "0         1.99            TV Shows   \n",
       "1         0.99               Latin   \n",
       "2         0.99               Latin   \n",
       "3         1.99              Comedy   \n",
       "4         0.99               Latin   \n",
       "..         ...                 ...   \n",
       "298       0.99  Alternative & Punk   \n",
       "299       0.99                Rock   \n",
       "300       0.99                Rock   \n",
       "301       0.99  Alternative & Punk   \n",
       "302       0.99                Rock   \n",
       "\n",
       "                                               Album             Artist  \n",
       "0                                     Lost, Season 1               Lost  \n",
       "1                                          Unplugged       Eric Clapton  \n",
       "2                          Milton Nascimento Ao Vivo  Milton Nascimento  \n",
       "3                               The Office, Season 3         The Office  \n",
       "4    Lulu Santos - RCA 100 Anos De Música - Álbum 02        Lulu Santos  \n",
       "..                                               ...                ...  \n",
       "298                                Album Of The Year      Faith No More  \n",
       "299                                 Unplugged [Live]               Kiss  \n",
       "300                                       Audioslave         Audioslave  \n",
       "301                                         Acústico              Titãs  \n",
       "302                                   Rattle And Hum                 U2  \n",
       "\n",
       "[303 rows x 8 columns]"
      ]
     },
     "execution_count": 36,
     "metadata": {},
     "output_type": "execute_result"
    }
   ],
   "source": [
    "df"
   ]
  },
  {
   "cell_type": "code",
   "execution_count": 37,
   "id": "d65fc2ba",
   "metadata": {
    "execution": {
     "iopub.execute_input": "2023-08-15T18:07:11.319928Z",
     "iopub.status.busy": "2023-08-15T18:07:11.319309Z",
     "iopub.status.idle": "2023-08-15T18:07:11.335335Z",
     "shell.execute_reply": "2023-08-15T18:07:11.334013Z"
    },
    "papermill": {
     "duration": 0.04424,
     "end_time": "2023-08-15T18:07:11.338263",
     "exception": false,
     "start_time": "2023-08-15T18:07:11.294023",
     "status": "completed"
    },
    "tags": []
   },
   "outputs": [
    {
     "data": {
      "text/html": [
       "<div>\n",
       "<style scoped>\n",
       "    .dataframe tbody tr th:only-of-type {\n",
       "        vertical-align: middle;\n",
       "    }\n",
       "\n",
       "    .dataframe tbody tr th {\n",
       "        vertical-align: top;\n",
       "    }\n",
       "\n",
       "    .dataframe thead th {\n",
       "        text-align: right;\n",
       "    }\n",
       "</style>\n",
       "<table border=\"1\" class=\"dataframe\">\n",
       "  <thead>\n",
       "    <tr style=\"text-align: right;\">\n",
       "      <th></th>\n",
       "      <th>Track</th>\n",
       "      <th>Composer</th>\n",
       "      <th>Genre</th>\n",
       "      <th>Album</th>\n",
       "      <th>Artist</th>\n",
       "    </tr>\n",
       "  </thead>\n",
       "  <tbody>\n",
       "    <tr>\n",
       "      <th>0</th>\n",
       "      <td>All the Best Cowboys Have Daddy Issues</td>\n",
       "      <td>NaN</td>\n",
       "      <td>TV Shows</td>\n",
       "      <td>Lost, Season 1</td>\n",
       "      <td>Lost</td>\n",
       "    </tr>\n",
       "    <tr>\n",
       "      <th>1</th>\n",
       "      <td>Beira Mar</td>\n",
       "      <td>Gilberto Gil</td>\n",
       "      <td>Latin</td>\n",
       "      <td>Unplugged</td>\n",
       "      <td>Eric Clapton</td>\n",
       "    </tr>\n",
       "    <tr>\n",
       "      <th>2</th>\n",
       "      <td>Brasil</td>\n",
       "      <td>Milton Nascimento, Fernando Brant</td>\n",
       "      <td>Latin</td>\n",
       "      <td>Milton Nascimento Ao Vivo</td>\n",
       "      <td>Milton Nascimento</td>\n",
       "    </tr>\n",
       "    <tr>\n",
       "      <th>3</th>\n",
       "      <td>Ben Franklin</td>\n",
       "      <td>NaN</td>\n",
       "      <td>Comedy</td>\n",
       "      <td>The Office, Season 3</td>\n",
       "      <td>The Office</td>\n",
       "    </tr>\n",
       "    <tr>\n",
       "      <th>4</th>\n",
       "      <td>O Último Romântico (Ao Vivo)</td>\n",
       "      <td>NaN</td>\n",
       "      <td>Latin</td>\n",
       "      <td>Lulu Santos - RCA 100 Anos De Música - Álbum 02</td>\n",
       "      <td>Lulu Santos</td>\n",
       "    </tr>\n",
       "    <tr>\n",
       "      <th>...</th>\n",
       "      <td>...</td>\n",
       "      <td>...</td>\n",
       "      <td>...</td>\n",
       "      <td>...</td>\n",
       "      <td>...</td>\n",
       "    </tr>\n",
       "    <tr>\n",
       "      <th>298</th>\n",
       "      <td>She Loves Me Not</td>\n",
       "      <td>Bill Gould/Mike Bordin/Mike Patton</td>\n",
       "      <td>Alternative &amp; Punk</td>\n",
       "      <td>Album Of The Year</td>\n",
       "      <td>Faith No More</td>\n",
       "    </tr>\n",
       "    <tr>\n",
       "      <th>299</th>\n",
       "      <td>Beth</td>\n",
       "      <td>Peter Criss, Stan Penridge, Bob Ezrin</td>\n",
       "      <td>Rock</td>\n",
       "      <td>Unplugged [Live]</td>\n",
       "      <td>Kiss</td>\n",
       "    </tr>\n",
       "    <tr>\n",
       "      <th>300</th>\n",
       "      <td>Exploder</td>\n",
       "      <td>Audioslave/Chris Cornell</td>\n",
       "      <td>Rock</td>\n",
       "      <td>Audioslave</td>\n",
       "      <td>Audioslave</td>\n",
       "    </tr>\n",
       "    <tr>\n",
       "      <th>301</th>\n",
       "      <td>Os Cegos Do Castelo</td>\n",
       "      <td>Titãs</td>\n",
       "      <td>Alternative &amp; Punk</td>\n",
       "      <td>Acústico</td>\n",
       "      <td>Titãs</td>\n",
       "    </tr>\n",
       "    <tr>\n",
       "      <th>302</th>\n",
       "      <td>The Star Spangled Banner</td>\n",
       "      <td>Hendrix, Jimi</td>\n",
       "      <td>Rock</td>\n",
       "      <td>Rattle And Hum</td>\n",
       "      <td>U2</td>\n",
       "    </tr>\n",
       "  </tbody>\n",
       "</table>\n",
       "<p>303 rows × 5 columns</p>\n",
       "</div>"
      ],
      "text/plain": [
       "                                      Track  \\\n",
       "0    All the Best Cowboys Have Daddy Issues   \n",
       "1                                 Beira Mar   \n",
       "2                                    Brasil   \n",
       "3                              Ben Franklin   \n",
       "4              O Último Romântico (Ao Vivo)   \n",
       "..                                      ...   \n",
       "298                        She Loves Me Not   \n",
       "299                                    Beth   \n",
       "300                                Exploder   \n",
       "301                     Os Cegos Do Castelo   \n",
       "302                The Star Spangled Banner   \n",
       "\n",
       "                                  Composer               Genre  \\\n",
       "0                                      NaN            TV Shows   \n",
       "1                             Gilberto Gil               Latin   \n",
       "2        Milton Nascimento, Fernando Brant               Latin   \n",
       "3                                      NaN              Comedy   \n",
       "4                                      NaN               Latin   \n",
       "..                                     ...                 ...   \n",
       "298     Bill Gould/Mike Bordin/Mike Patton  Alternative & Punk   \n",
       "299  Peter Criss, Stan Penridge, Bob Ezrin                Rock   \n",
       "300               Audioslave/Chris Cornell                Rock   \n",
       "301                                  Titãs  Alternative & Punk   \n",
       "302                          Hendrix, Jimi                Rock   \n",
       "\n",
       "                                               Album             Artist  \n",
       "0                                     Lost, Season 1               Lost  \n",
       "1                                          Unplugged       Eric Clapton  \n",
       "2                          Milton Nascimento Ao Vivo  Milton Nascimento  \n",
       "3                               The Office, Season 3         The Office  \n",
       "4    Lulu Santos - RCA 100 Anos De Música - Álbum 02        Lulu Santos  \n",
       "..                                               ...                ...  \n",
       "298                                Album Of The Year      Faith No More  \n",
       "299                                 Unplugged [Live]               Kiss  \n",
       "300                                       Audioslave         Audioslave  \n",
       "301                                         Acústico              Titãs  \n",
       "302                                   Rattle And Hum                 U2  \n",
       "\n",
       "[303 rows x 5 columns]"
      ]
     },
     "execution_count": 37,
     "metadata": {},
     "output_type": "execute_result"
    }
   ],
   "source": [
    "df = df.drop(['Bytes','UnitPrice',\"Milliseconds\"],axis=\"columns\")\n",
    "df"
   ]
  },
  {
   "cell_type": "code",
   "execution_count": 38,
   "id": "37f3d36b",
   "metadata": {
    "execution": {
     "iopub.execute_input": "2023-08-15T18:07:11.386708Z",
     "iopub.status.busy": "2023-08-15T18:07:11.386023Z",
     "iopub.status.idle": "2023-08-15T18:07:11.748070Z",
     "shell.execute_reply": "2023-08-15T18:07:11.746919Z"
    },
    "papermill": {
     "duration": 0.389014,
     "end_time": "2023-08-15T18:07:11.750521",
     "exception": false,
     "start_time": "2023-08-15T18:07:11.361507",
     "status": "completed"
    },
    "tags": []
   },
   "outputs": [
    {
     "data": {
      "text/plain": [
       "<Axes: >"
      ]
     },
     "execution_count": 38,
     "metadata": {},
     "output_type": "execute_result"
    },
    {
     "data": {
      "image/png": "[encoded data removed]",
      "text/plain": [
       "<Figure size 640x480 with 1 Axes>"
      ]
     },
     "metadata": {},
     "output_type": "display_data"
    }
   ],
   "source": [
    "cric = pd.DataFrame({\n",
    "    'Matches_Played': [254, 139, 150, 102, 227],\n",
    "    'Runs_Scored': [12169, 7540, 7115, 8249, 9205],\n",
    "})\n",
    " \n",
    "cric.plot()"
   ]
  },
  {
   "cell_type": "code",
   "execution_count": 39,
   "id": "c969e641",
   "metadata": {
    "execution": {
     "iopub.execute_input": "2023-08-15T18:07:11.799767Z",
     "iopub.status.busy": "2023-08-15T18:07:11.799078Z",
     "iopub.status.idle": "2023-08-15T18:07:12.018544Z",
     "shell.execute_reply": "2023-08-15T18:07:12.016826Z"
    },
    "papermill": {
     "duration": 0.247231,
     "end_time": "2023-08-15T18:07:12.021288",
     "exception": false,
     "start_time": "2023-08-15T18:07:11.774057",
     "status": "completed"
    },
    "tags": []
   },
   "outputs": [
    {
     "data": {
      "text/plain": [
       "[<matplotlib.lines.Line2D at 0x7fd14fdd2920>]"
      ]
     },
     "execution_count": 39,
     "metadata": {},
     "output_type": "execute_result"
    },
    {
     "data": {
      "image/png": "[encoded data removed]",
      "text/plain": [
       "<Figure size 640x480 with 1 Axes>"
      ]
     },
     "metadata": {},
     "output_type": "display_data"
    }
   ],
   "source": [
    "x = np.arange(-15,16)\n",
    "plt.plot(x,x**2)"
   ]
  },
  {
   "cell_type": "code",
   "execution_count": 40,
   "id": "560a64b2",
   "metadata": {
    "execution": {
     "iopub.execute_input": "2023-08-15T18:07:12.072191Z",
     "iopub.status.busy": "2023-08-15T18:07:12.071744Z",
     "iopub.status.idle": "2023-08-15T18:07:12.079408Z",
     "shell.execute_reply": "2023-08-15T18:07:12.078215Z"
    },
    "papermill": {
     "duration": 0.035693,
     "end_time": "2023-08-15T18:07:12.081835",
     "exception": false,
     "start_time": "2023-08-15T18:07:12.046142",
     "status": "completed"
    },
    "tags": []
   },
   "outputs": [
    {
     "data": {
      "text/plain": [
       "True"
      ]
     },
     "execution_count": 40,
     "metadata": {},
     "output_type": "execute_result"
    }
   ],
   "source": [
    "pd.isnull(np.nan)"
   ]
  },
  {
   "cell_type": "code",
   "execution_count": 41,
   "id": "44d924b6",
   "metadata": {
    "execution": {
     "iopub.execute_input": "2023-08-15T18:07:12.131594Z",
     "iopub.status.busy": "2023-08-15T18:07:12.131212Z",
     "iopub.status.idle": "2023-08-15T18:07:12.139070Z",
     "shell.execute_reply": "2023-08-15T18:07:12.137662Z"
    },
    "papermill": {
     "duration": 0.03542,
     "end_time": "2023-08-15T18:07:12.141359",
     "exception": false,
     "start_time": "2023-08-15T18:07:12.105939",
     "status": "completed"
    },
    "tags": []
   },
   "outputs": [
    {
     "data": {
      "text/plain": [
       "True"
      ]
     },
     "execution_count": 41,
     "metadata": {},
     "output_type": "execute_result"
    }
   ],
   "source": [
    "pd.isnull(None)"
   ]
  },
  {
   "cell_type": "code",
   "execution_count": 42,
   "id": "d660506d",
   "metadata": {
    "execution": {
     "iopub.execute_input": "2023-08-15T18:07:12.191971Z",
     "iopub.status.busy": "2023-08-15T18:07:12.191476Z",
     "iopub.status.idle": "2023-08-15T18:07:12.198736Z",
     "shell.execute_reply": "2023-08-15T18:07:12.197903Z"
    },
    "papermill": {
     "duration": 0.03527,
     "end_time": "2023-08-15T18:07:12.200988",
     "exception": false,
     "start_time": "2023-08-15T18:07:12.165718",
     "status": "completed"
    },
    "tags": []
   },
   "outputs": [
    {
     "data": {
      "text/plain": [
       "True"
      ]
     },
     "execution_count": 42,
     "metadata": {},
     "output_type": "execute_result"
    }
   ],
   "source": [
    "pd.isna(None)"
   ]
  },
  {
   "cell_type": "code",
   "execution_count": 43,
   "id": "cf2466ff",
   "metadata": {
    "execution": {
     "iopub.execute_input": "2023-08-15T18:07:12.252042Z",
     "iopub.status.busy": "2023-08-15T18:07:12.251577Z",
     "iopub.status.idle": "2023-08-15T18:07:12.259672Z",
     "shell.execute_reply": "2023-08-15T18:07:12.258380Z"
    },
    "papermill": {
     "duration": 0.036518,
     "end_time": "2023-08-15T18:07:12.262189",
     "exception": false,
     "start_time": "2023-08-15T18:07:12.225671",
     "status": "completed"
    },
    "tags": []
   },
   "outputs": [
    {
     "data": {
      "text/plain": [
       "False"
      ]
     },
     "execution_count": 43,
     "metadata": {},
     "output_type": "execute_result"
    }
   ],
   "source": [
    "pd.notnull(None)"
   ]
  },
  {
   "cell_type": "code",
   "execution_count": 44,
   "id": "b2a347e2",
   "metadata": {
    "execution": {
     "iopub.execute_input": "2023-08-15T18:07:12.318355Z",
     "iopub.status.busy": "2023-08-15T18:07:12.317945Z",
     "iopub.status.idle": "2023-08-15T18:07:12.326004Z",
     "shell.execute_reply": "2023-08-15T18:07:12.324441Z"
    },
    "papermill": {
     "duration": 0.040005,
     "end_time": "2023-08-15T18:07:12.328846",
     "exception": false,
     "start_time": "2023-08-15T18:07:12.288841",
     "status": "completed"
    },
    "tags": []
   },
   "outputs": [
    {
     "data": {
      "text/plain": [
       "False"
      ]
     },
     "execution_count": 44,
     "metadata": {},
     "output_type": "execute_result"
    }
   ],
   "source": [
    "pd.notna(None)"
   ]
  },
  {
   "cell_type": "code",
   "execution_count": 45,
   "id": "9d822a10",
   "metadata": {
    "execution": {
     "iopub.execute_input": "2023-08-15T18:07:12.385241Z",
     "iopub.status.busy": "2023-08-15T18:07:12.384048Z",
     "iopub.status.idle": "2023-08-15T18:07:12.391709Z",
     "shell.execute_reply": "2023-08-15T18:07:12.390557Z"
    },
    "papermill": {
     "duration": 0.037957,
     "end_time": "2023-08-15T18:07:12.393967",
     "exception": false,
     "start_time": "2023-08-15T18:07:12.356010",
     "status": "completed"
    },
    "tags": []
   },
   "outputs": [
    {
     "data": {
      "text/plain": [
       "False"
      ]
     },
     "execution_count": 45,
     "metadata": {},
     "output_type": "execute_result"
    }
   ],
   "source": [
    "pd.notna(np.nan)"
   ]
  },
  {
   "cell_type": "code",
   "execution_count": 46,
   "id": "a06d44d7",
   "metadata": {
    "execution": {
     "iopub.execute_input": "2023-08-15T18:07:12.447796Z",
     "iopub.status.busy": "2023-08-15T18:07:12.447407Z",
     "iopub.status.idle": "2023-08-15T18:07:12.454938Z",
     "shell.execute_reply": "2023-08-15T18:07:12.453706Z"
    },
    "papermill": {
     "duration": 0.03732,
     "end_time": "2023-08-15T18:07:12.457315",
     "exception": false,
     "start_time": "2023-08-15T18:07:12.419995",
     "status": "completed"
    },
    "tags": []
   },
   "outputs": [
    {
     "data": {
      "text/plain": [
       "28"
      ]
     },
     "execution_count": 46,
     "metadata": {},
     "output_type": "execute_result"
    }
   ],
   "source": [
    "import sys\n",
    "sys.getsizeof(1)"
   ]
  },
  {
   "cell_type": "code",
   "execution_count": 47,
   "id": "be37384f",
   "metadata": {
    "execution": {
     "iopub.execute_input": "2023-08-15T18:07:12.514041Z",
     "iopub.status.busy": "2023-08-15T18:07:12.513216Z",
     "iopub.status.idle": "2023-08-15T18:07:12.536044Z",
     "shell.execute_reply": "2023-08-15T18:07:12.535134Z"
    },
    "papermill": {
     "duration": 0.054061,
     "end_time": "2023-08-15T18:07:12.538681",
     "exception": false,
     "start_time": "2023-08-15T18:07:12.484620",
     "status": "completed"
    },
    "tags": []
   },
   "outputs": [
    {
     "data": {
      "text/html": [
       "<div>\n",
       "<style scoped>\n",
       "    .dataframe tbody tr th:only-of-type {\n",
       "        vertical-align: middle;\n",
       "    }\n",
       "\n",
       "    .dataframe tbody tr th {\n",
       "        vertical-align: top;\n",
       "    }\n",
       "\n",
       "    .dataframe thead th {\n",
       "        text-align: right;\n",
       "    }\n",
       "</style>\n",
       "<table border=\"1\" class=\"dataframe\">\n",
       "  <thead>\n",
       "    <tr style=\"text-align: right;\">\n",
       "      <th></th>\n",
       "      <th>Title</th>\n",
       "      <th>Release Year</th>\n",
       "      <th>Director</th>\n",
       "    </tr>\n",
       "  </thead>\n",
       "  <tbody>\n",
       "    <tr>\n",
       "      <th>0</th>\n",
       "      <td>Iron Man</td>\n",
       "      <td>2008.0</td>\n",
       "      <td>Jon Favreau</td>\n",
       "    </tr>\n",
       "    <tr>\n",
       "      <th>1</th>\n",
       "      <td>The Incredible Hulk</td>\n",
       "      <td>2008.0</td>\n",
       "      <td>NaN</td>\n",
       "    </tr>\n",
       "    <tr>\n",
       "      <th>2</th>\n",
       "      <td>Iron Man 2</td>\n",
       "      <td>2010.0</td>\n",
       "      <td>Jon Favreau</td>\n",
       "    </tr>\n",
       "    <tr>\n",
       "      <th>3</th>\n",
       "      <td>Thor</td>\n",
       "      <td>NaN</td>\n",
       "      <td>NaN</td>\n",
       "    </tr>\n",
       "    <tr>\n",
       "      <th>4</th>\n",
       "      <td>Captain America: The First Avenger</td>\n",
       "      <td>2011.0</td>\n",
       "      <td>Joe Johnston</td>\n",
       "    </tr>\n",
       "    <tr>\n",
       "      <th>5</th>\n",
       "      <td>The Avengers</td>\n",
       "      <td>2012.0</td>\n",
       "      <td>Joss Whedon</td>\n",
       "    </tr>\n",
       "    <tr>\n",
       "      <th>6</th>\n",
       "      <td>Iron Man 3</td>\n",
       "      <td>2013.0</td>\n",
       "      <td>Shane Black</td>\n",
       "    </tr>\n",
       "    <tr>\n",
       "      <th>7</th>\n",
       "      <td>Thor: The Dark World</td>\n",
       "      <td>2013.0</td>\n",
       "      <td>Alan Taylor</td>\n",
       "    </tr>\n",
       "    <tr>\n",
       "      <th>8</th>\n",
       "      <td>Captain America: The Winter Soldier</td>\n",
       "      <td>2014.0</td>\n",
       "      <td>Anthony and Joe Russo</td>\n",
       "    </tr>\n",
       "    <tr>\n",
       "      <th>9</th>\n",
       "      <td>Guardians of the Galaxy</td>\n",
       "      <td>2014.0</td>\n",
       "      <td>James Gunn</td>\n",
       "    </tr>\n",
       "    <tr>\n",
       "      <th>10</th>\n",
       "      <td>Avengers: Age of Ultron</td>\n",
       "      <td>2015.0</td>\n",
       "      <td>Joss Whedon</td>\n",
       "    </tr>\n",
       "    <tr>\n",
       "      <th>11</th>\n",
       "      <td>Ant-Man</td>\n",
       "      <td>2015.0</td>\n",
       "      <td>None</td>\n",
       "    </tr>\n",
       "    <tr>\n",
       "      <th>12</th>\n",
       "      <td>Captain America: Civil War</td>\n",
       "      <td>2016.0</td>\n",
       "      <td>Anthony and Joe Russo</td>\n",
       "    </tr>\n",
       "    <tr>\n",
       "      <th>13</th>\n",
       "      <td>Doctor Strange</td>\n",
       "      <td>2016.0</td>\n",
       "      <td>Scott Derrickson</td>\n",
       "    </tr>\n",
       "    <tr>\n",
       "      <th>14</th>\n",
       "      <td>Guardians of the Galaxy Vol. 2</td>\n",
       "      <td>2017.0</td>\n",
       "      <td>James Gunn</td>\n",
       "    </tr>\n",
       "    <tr>\n",
       "      <th>15</th>\n",
       "      <td>None</td>\n",
       "      <td>2017.0</td>\n",
       "      <td>NaN</td>\n",
       "    </tr>\n",
       "    <tr>\n",
       "      <th>16</th>\n",
       "      <td>None</td>\n",
       "      <td>2017.0</td>\n",
       "      <td>Taika Waititi</td>\n",
       "    </tr>\n",
       "    <tr>\n",
       "      <th>17</th>\n",
       "      <td>Black Panther</td>\n",
       "      <td>2018.0</td>\n",
       "      <td>Ryan Coogler</td>\n",
       "    </tr>\n",
       "    <tr>\n",
       "      <th>18</th>\n",
       "      <td>Avengers: Infinity War</td>\n",
       "      <td>2018.0</td>\n",
       "      <td>Anthony and Joe Russo</td>\n",
       "    </tr>\n",
       "    <tr>\n",
       "      <th>19</th>\n",
       "      <td>Ant-Man and The Wasp</td>\n",
       "      <td>2018.0</td>\n",
       "      <td>Peyton Reed</td>\n",
       "    </tr>\n",
       "    <tr>\n",
       "      <th>20</th>\n",
       "      <td>Captain Marvel</td>\n",
       "      <td>2019.0</td>\n",
       "      <td>Anna Boden and Ryan Fleck</td>\n",
       "    </tr>\n",
       "    <tr>\n",
       "      <th>21</th>\n",
       "      <td>Avengers: Endgame</td>\n",
       "      <td>2019.0</td>\n",
       "      <td>Anthony and Joe Russo</td>\n",
       "    </tr>\n",
       "    <tr>\n",
       "      <th>22</th>\n",
       "      <td>None</td>\n",
       "      <td>2019.0</td>\n",
       "      <td>Jon Watts</td>\n",
       "    </tr>\n",
       "    <tr>\n",
       "      <th>23</th>\n",
       "      <td>Black Widow</td>\n",
       "      <td>2021.0</td>\n",
       "      <td>Cate Shortland</td>\n",
       "    </tr>\n",
       "    <tr>\n",
       "      <th>24</th>\n",
       "      <td>Shang-Chi and the Legend of the Ten Rings</td>\n",
       "      <td>2021.0</td>\n",
       "      <td>Destin Daniel Cretton</td>\n",
       "    </tr>\n",
       "  </tbody>\n",
       "</table>\n",
       "</div>"
      ],
      "text/plain": [
       "                                        Title  Release Year  \\\n",
       "0                                    Iron Man        2008.0   \n",
       "1                         The Incredible Hulk        2008.0   \n",
       "2                                  Iron Man 2        2010.0   \n",
       "3                                        Thor           NaN   \n",
       "4          Captain America: The First Avenger        2011.0   \n",
       "5                                The Avengers        2012.0   \n",
       "6                                  Iron Man 3        2013.0   \n",
       "7                        Thor: The Dark World        2013.0   \n",
       "8         Captain America: The Winter Soldier        2014.0   \n",
       "9                     Guardians of the Galaxy        2014.0   \n",
       "10                    Avengers: Age of Ultron        2015.0   \n",
       "11                                    Ant-Man        2015.0   \n",
       "12                 Captain America: Civil War        2016.0   \n",
       "13                             Doctor Strange        2016.0   \n",
       "14             Guardians of the Galaxy Vol. 2        2017.0   \n",
       "15                                       None        2017.0   \n",
       "16                                       None        2017.0   \n",
       "17                              Black Panther        2018.0   \n",
       "18                     Avengers: Infinity War        2018.0   \n",
       "19                       Ant-Man and The Wasp        2018.0   \n",
       "20                             Captain Marvel        2019.0   \n",
       "21                          Avengers: Endgame        2019.0   \n",
       "22                                       None        2019.0   \n",
       "23                                Black Widow        2021.0   \n",
       "24  Shang-Chi and the Legend of the Ten Rings        2021.0   \n",
       "\n",
       "                     Director  \n",
       "0                 Jon Favreau  \n",
       "1                         NaN  \n",
       "2                 Jon Favreau  \n",
       "3                         NaN  \n",
       "4                Joe Johnston  \n",
       "5                 Joss Whedon  \n",
       "6                 Shane Black  \n",
       "7                 Alan Taylor  \n",
       "8       Anthony and Joe Russo  \n",
       "9                  James Gunn  \n",
       "10                Joss Whedon  \n",
       "11                       None  \n",
       "12      Anthony and Joe Russo  \n",
       "13           Scott Derrickson  \n",
       "14                 James Gunn  \n",
       "15                        NaN  \n",
       "16              Taika Waititi  \n",
       "17               Ryan Coogler  \n",
       "18      Anthony and Joe Russo  \n",
       "19                Peyton Reed  \n",
       "20  Anna Boden and Ryan Fleck  \n",
       "21      Anthony and Joe Russo  \n",
       "22                  Jon Watts  \n",
       "23             Cate Shortland  \n",
       "24      Destin Daniel Cretton  "
      ]
     },
     "execution_count": 47,
     "metadata": {},
     "output_type": "execute_result"
    }
   ],
   "source": [
    "data = {\n",
    "    'Title': ['Iron Man', 'The Incredible Hulk', 'Iron Man 2', 'Thor', 'Captain America: The First Avenger', \n",
    "              'The Avengers', 'Iron Man 3', 'Thor: The Dark World', 'Captain America: The Winter Soldier', \n",
    "              'Guardians of the Galaxy', 'Avengers: Age of Ultron', 'Ant-Man', 'Captain America: Civil War', \n",
    "              'Doctor Strange', 'Guardians of the Galaxy Vol. 2',None, None, \n",
    "              'Black Panther', 'Avengers: Infinity War', 'Ant-Man and The Wasp', 'Captain Marvel', \n",
    "              'Avengers: Endgame', None, 'Black Widow', 'Shang-Chi and the Legend of the Ten Rings'],\n",
    "    'Release Year': [2008, 2008, 2010, None, 2011, 2012, 2013, 2013, 2014, 2014, 2015, 2015, 2016, 2016, \n",
    "                     2017, 2017, 2017, 2018, 2018, 2018, 2019, 2019, 2019, 2021, 2021],\n",
    "    'Director': ['Jon Favreau', np.nan, 'Jon Favreau', np.nan, 'Joe Johnston', 'Joss Whedon', \n",
    "                 'Shane Black', 'Alan Taylor', 'Anthony and Joe Russo', 'James Gunn', 'Joss Whedon', None, \n",
    "                 'Anthony and Joe Russo', 'Scott Derrickson', 'James Gunn', np.nan, 'Taika Waititi', \n",
    "                 'Ryan Coogler', 'Anthony and Joe Russo', 'Peyton Reed', 'Anna Boden and Ryan Fleck', \n",
    "                 'Anthony and Joe Russo', 'Jon Watts', 'Cate Shortland', 'Destin Daniel Cretton'],\n",
    "}\n",
    "\n",
    "marvel_df = pd.DataFrame(data)\n",
    "marvel_df"
   ]
  },
  {
   "cell_type": "code",
   "execution_count": 48,
   "id": "fe93b05f",
   "metadata": {
    "execution": {
     "iopub.execute_input": "2023-08-15T18:07:12.593860Z",
     "iopub.status.busy": "2023-08-15T18:07:12.593393Z",
     "iopub.status.idle": "2023-08-15T18:07:12.601395Z",
     "shell.execute_reply": "2023-08-15T18:07:12.600321Z"
    },
    "papermill": {
     "duration": 0.038985,
     "end_time": "2023-08-15T18:07:12.603663",
     "exception": false,
     "start_time": "2023-08-15T18:07:12.564678",
     "status": "completed"
    },
    "tags": []
   },
   "outputs": [],
   "source": [
    "marvel_df = marvel_df.dropna()"
   ]
  },
  {
   "cell_type": "code",
   "execution_count": 49,
   "id": "b1247ed4",
   "metadata": {
    "execution": {
     "iopub.execute_input": "2023-08-15T18:07:12.658205Z",
     "iopub.status.busy": "2023-08-15T18:07:12.657692Z",
     "iopub.status.idle": "2023-08-15T18:07:12.677589Z",
     "shell.execute_reply": "2023-08-15T18:07:12.676221Z"
    },
    "papermill": {
     "duration": 0.050117,
     "end_time": "2023-08-15T18:07:12.680010",
     "exception": false,
     "start_time": "2023-08-15T18:07:12.629893",
     "status": "completed"
    },
    "tags": []
   },
   "outputs": [
    {
     "data": {
      "text/html": [
       "<div>\n",
       "<style scoped>\n",
       "    .dataframe tbody tr th:only-of-type {\n",
       "        vertical-align: middle;\n",
       "    }\n",
       "\n",
       "    .dataframe tbody tr th {\n",
       "        vertical-align: top;\n",
       "    }\n",
       "\n",
       "    .dataframe thead th {\n",
       "        text-align: right;\n",
       "    }\n",
       "</style>\n",
       "<table border=\"1\" class=\"dataframe\">\n",
       "  <thead>\n",
       "    <tr style=\"text-align: right;\">\n",
       "      <th></th>\n",
       "      <th>Year</th>\n",
       "      <th>Director</th>\n",
       "      <th>Rating</th>\n",
       "    </tr>\n",
       "    <tr>\n",
       "      <th>Title</th>\n",
       "      <th></th>\n",
       "      <th></th>\n",
       "      <th></th>\n",
       "    </tr>\n",
       "  </thead>\n",
       "  <tbody>\n",
       "    <tr>\n",
       "      <th>Man of Steel</th>\n",
       "      <td>2013</td>\n",
       "      <td>Zack Snyder</td>\n",
       "      <td>7.1</td>\n",
       "    </tr>\n",
       "    <tr>\n",
       "      <th>Batman v Superman: Dawn of Justice</th>\n",
       "      <td>2016</td>\n",
       "      <td>Zack Snyder</td>\n",
       "      <td>6.5</td>\n",
       "    </tr>\n",
       "    <tr>\n",
       "      <th>Wonder Woman</th>\n",
       "      <td>2017</td>\n",
       "      <td>Patty Jenkins</td>\n",
       "      <td>7.4</td>\n",
       "    </tr>\n",
       "    <tr>\n",
       "      <th>Suicide Squad</th>\n",
       "      <td>2016</td>\n",
       "      <td>David Ayer</td>\n",
       "      <td>6.0</td>\n",
       "    </tr>\n",
       "    <tr>\n",
       "      <th>Justice League</th>\n",
       "      <td>2017</td>\n",
       "      <td>Zack Snyder</td>\n",
       "      <td>6.3</td>\n",
       "    </tr>\n",
       "    <tr>\n",
       "      <th>Aquaman</th>\n",
       "      <td>2018</td>\n",
       "      <td>James Wan</td>\n",
       "      <td>7.0</td>\n",
       "    </tr>\n",
       "    <tr>\n",
       "      <th>Shazam!</th>\n",
       "      <td>2019</td>\n",
       "      <td>David F. Sandberg</td>\n",
       "      <td>7.1</td>\n",
       "    </tr>\n",
       "    <tr>\n",
       "      <th>Wonder Woman</th>\n",
       "      <td>2017</td>\n",
       "      <td>Patty Jenkins</td>\n",
       "      <td>7.5</td>\n",
       "    </tr>\n",
       "    <tr>\n",
       "      <th>Aquaman</th>\n",
       "      <td>2018</td>\n",
       "      <td>James Wan</td>\n",
       "      <td>7.6</td>\n",
       "    </tr>\n",
       "  </tbody>\n",
       "</table>\n",
       "</div>"
      ],
      "text/plain": [
       "                                    Year           Director  Rating\n",
       "Title                                                              \n",
       "Man of Steel                        2013        Zack Snyder     7.1\n",
       "Batman v Superman: Dawn of Justice  2016        Zack Snyder     6.5\n",
       "Wonder Woman                        2017      Patty Jenkins     7.4\n",
       "Suicide Squad                       2016         David Ayer     6.0\n",
       "Justice League                      2017        Zack Snyder     6.3\n",
       "Aquaman                             2018          James Wan     7.0\n",
       "Shazam!                             2019  David F. Sandberg     7.1\n",
       "Wonder Woman                        2017      Patty Jenkins     7.5\n",
       "Aquaman                             2018          James Wan     7.6"
      ]
     },
     "execution_count": 49,
     "metadata": {},
     "output_type": "execute_result"
    }
   ],
   "source": [
    "data = {\n",
    "    'Title': ['Man of Steel', 'Batman v Superman: Dawn of Justice', 'Wonder Woman', 'Suicide Squad', 'Justice League', 'Aquaman', 'Shazam!', 'Wonder Woman', 'Aquaman'],\n",
    "    'Year': [2013, 2016, 2017, 2016, 2017, 2018, 2019, 2017, 2018],\n",
    "    'Director': ['Zack Snyder', 'Zack Snyder', 'Patty Jenkins', 'David Ayer', 'Zack Snyder', 'James Wan', 'David F. Sandberg', 'Patty Jenkins', 'James Wan'],\n",
    "    'Rating': [7.1, 6.5, 7.4, 6.0, 6.3, 7.0, 7.1, 7.5, 7.6]\n",
    "}\n",
    "\n",
    "dc_df = pd.DataFrame(data)\n",
    "dc_df.set_index('Title', inplace=True)\n",
    "\n",
    "dc_df\n"
   ]
  },
  {
   "cell_type": "code",
   "execution_count": 50,
   "id": "93a58652",
   "metadata": {
    "execution": {
     "iopub.execute_input": "2023-08-15T18:07:12.734481Z",
     "iopub.status.busy": "2023-08-15T18:07:12.733993Z",
     "iopub.status.idle": "2023-08-15T18:07:12.747977Z",
     "shell.execute_reply": "2023-08-15T18:07:12.746649Z"
    },
    "papermill": {
     "duration": 0.044416,
     "end_time": "2023-08-15T18:07:12.750610",
     "exception": false,
     "start_time": "2023-08-15T18:07:12.706194",
     "status": "completed"
    },
    "tags": []
   },
   "outputs": [
    {
     "data": {
      "text/plain": [
       "Title\n",
       "Man of Steel                          False\n",
       "Batman v Superman: Dawn of Justice    False\n",
       "Wonder Woman                          False\n",
       "Suicide Squad                         False\n",
       "Justice League                        False\n",
       "Aquaman                               False\n",
       "Shazam!                               False\n",
       "Wonder Woman                          False\n",
       "Aquaman                               False\n",
       "dtype: bool"
      ]
     },
     "execution_count": 50,
     "metadata": {},
     "output_type": "execute_result"
    }
   ],
   "source": [
    "dc_df.duplicated()"
   ]
  },
  {
   "cell_type": "code",
   "execution_count": 51,
   "id": "167f4226",
   "metadata": {
    "execution": {
     "iopub.execute_input": "2023-08-15T18:07:12.806669Z",
     "iopub.status.busy": "2023-08-15T18:07:12.806202Z",
     "iopub.status.idle": "2023-08-15T18:07:12.821055Z",
     "shell.execute_reply": "2023-08-15T18:07:12.819798Z"
    },
    "papermill": {
     "duration": 0.046142,
     "end_time": "2023-08-15T18:07:12.823656",
     "exception": false,
     "start_time": "2023-08-15T18:07:12.777514",
     "status": "completed"
    },
    "tags": []
   },
   "outputs": [
    {
     "data": {
      "text/html": [
       "<div>\n",
       "<style scoped>\n",
       "    .dataframe tbody tr th:only-of-type {\n",
       "        vertical-align: middle;\n",
       "    }\n",
       "\n",
       "    .dataframe tbody tr th {\n",
       "        vertical-align: top;\n",
       "    }\n",
       "\n",
       "    .dataframe thead th {\n",
       "        text-align: right;\n",
       "    }\n",
       "</style>\n",
       "<table border=\"1\" class=\"dataframe\">\n",
       "  <thead>\n",
       "    <tr style=\"text-align: right;\">\n",
       "      <th></th>\n",
       "      <th>Year</th>\n",
       "      <th>Director</th>\n",
       "      <th>Rating</th>\n",
       "    </tr>\n",
       "    <tr>\n",
       "      <th>Title</th>\n",
       "      <th></th>\n",
       "      <th></th>\n",
       "      <th></th>\n",
       "    </tr>\n",
       "  </thead>\n",
       "  <tbody>\n",
       "    <tr>\n",
       "      <th>Man of Steel</th>\n",
       "      <td>2013</td>\n",
       "      <td>Zack Snyder</td>\n",
       "      <td>7.1</td>\n",
       "    </tr>\n",
       "    <tr>\n",
       "      <th>Batman v Superman: Dawn of Justice</th>\n",
       "      <td>2016</td>\n",
       "      <td>Zack Snyder</td>\n",
       "      <td>6.5</td>\n",
       "    </tr>\n",
       "    <tr>\n",
       "      <th>Wonder Woman</th>\n",
       "      <td>2017</td>\n",
       "      <td>Patty Jenkins</td>\n",
       "      <td>7.4</td>\n",
       "    </tr>\n",
       "    <tr>\n",
       "      <th>Suicide Squad</th>\n",
       "      <td>2016</td>\n",
       "      <td>David Ayer</td>\n",
       "      <td>6.0</td>\n",
       "    </tr>\n",
       "    <tr>\n",
       "      <th>Justice League</th>\n",
       "      <td>2017</td>\n",
       "      <td>Zack Snyder</td>\n",
       "      <td>6.3</td>\n",
       "    </tr>\n",
       "    <tr>\n",
       "      <th>Aquaman</th>\n",
       "      <td>2018</td>\n",
       "      <td>James Wan</td>\n",
       "      <td>7.0</td>\n",
       "    </tr>\n",
       "    <tr>\n",
       "      <th>Shazam!</th>\n",
       "      <td>2019</td>\n",
       "      <td>David F. Sandberg</td>\n",
       "      <td>7.1</td>\n",
       "    </tr>\n",
       "    <tr>\n",
       "      <th>Wonder Woman</th>\n",
       "      <td>2017</td>\n",
       "      <td>Patty Jenkins</td>\n",
       "      <td>7.5</td>\n",
       "    </tr>\n",
       "    <tr>\n",
       "      <th>Aquaman</th>\n",
       "      <td>2018</td>\n",
       "      <td>James Wan</td>\n",
       "      <td>7.6</td>\n",
       "    </tr>\n",
       "  </tbody>\n",
       "</table>\n",
       "</div>"
      ],
      "text/plain": [
       "                                    Year           Director  Rating\n",
       "Title                                                              \n",
       "Man of Steel                        2013        Zack Snyder     7.1\n",
       "Batman v Superman: Dawn of Justice  2016        Zack Snyder     6.5\n",
       "Wonder Woman                        2017      Patty Jenkins     7.4\n",
       "Suicide Squad                       2016         David Ayer     6.0\n",
       "Justice League                      2017        Zack Snyder     6.3\n",
       "Aquaman                             2018          James Wan     7.0\n",
       "Shazam!                             2019  David F. Sandberg     7.1\n",
       "Wonder Woman                        2017      Patty Jenkins     7.5\n",
       "Aquaman                             2018          James Wan     7.6"
      ]
     },
     "execution_count": 51,
     "metadata": {},
     "output_type": "execute_result"
    }
   ],
   "source": [
    "dc_df.duplicated(keep='first')\n",
    "dc_df"
   ]
  },
  {
   "cell_type": "code",
   "execution_count": 52,
   "id": "ef44246c",
   "metadata": {
    "execution": {
     "iopub.execute_input": "2023-08-15T18:07:12.878280Z",
     "iopub.status.busy": "2023-08-15T18:07:12.877755Z",
     "iopub.status.idle": "2023-08-15T18:07:12.896634Z",
     "shell.execute_reply": "2023-08-15T18:07:12.895320Z"
    },
    "papermill": {
     "duration": 0.048927,
     "end_time": "2023-08-15T18:07:12.898969",
     "exception": false,
     "start_time": "2023-08-15T18:07:12.850042",
     "status": "completed"
    },
    "tags": []
   },
   "outputs": [
    {
     "data": {
      "text/html": [
       "<div>\n",
       "<style scoped>\n",
       "    .dataframe tbody tr th:only-of-type {\n",
       "        vertical-align: middle;\n",
       "    }\n",
       "\n",
       "    .dataframe tbody tr th {\n",
       "        vertical-align: top;\n",
       "    }\n",
       "\n",
       "    .dataframe thead th {\n",
       "        text-align: right;\n",
       "    }\n",
       "</style>\n",
       "<table border=\"1\" class=\"dataframe\">\n",
       "  <thead>\n",
       "    <tr style=\"text-align: right;\">\n",
       "      <th></th>\n",
       "      <th>Year</th>\n",
       "      <th>Director</th>\n",
       "      <th>Rating</th>\n",
       "    </tr>\n",
       "    <tr>\n",
       "      <th>Title</th>\n",
       "      <th></th>\n",
       "      <th></th>\n",
       "      <th></th>\n",
       "    </tr>\n",
       "  </thead>\n",
       "  <tbody>\n",
       "    <tr>\n",
       "      <th>Man of Steel</th>\n",
       "      <td>2013</td>\n",
       "      <td>Zack Snyder</td>\n",
       "      <td>7.1</td>\n",
       "    </tr>\n",
       "    <tr>\n",
       "      <th>Batman v Superman: Dawn of Justice</th>\n",
       "      <td>2016</td>\n",
       "      <td>Zack Snyder</td>\n",
       "      <td>6.5</td>\n",
       "    </tr>\n",
       "    <tr>\n",
       "      <th>Wonder Woman</th>\n",
       "      <td>2017</td>\n",
       "      <td>Patty Jenkins</td>\n",
       "      <td>7.4</td>\n",
       "    </tr>\n",
       "    <tr>\n",
       "      <th>Suicide Squad</th>\n",
       "      <td>2016</td>\n",
       "      <td>David Ayer</td>\n",
       "      <td>6.0</td>\n",
       "    </tr>\n",
       "    <tr>\n",
       "      <th>Justice League</th>\n",
       "      <td>2017</td>\n",
       "      <td>Zack Snyder</td>\n",
       "      <td>6.3</td>\n",
       "    </tr>\n",
       "    <tr>\n",
       "      <th>Aquaman</th>\n",
       "      <td>2018</td>\n",
       "      <td>James Wan</td>\n",
       "      <td>7.0</td>\n",
       "    </tr>\n",
       "    <tr>\n",
       "      <th>Shazam!</th>\n",
       "      <td>2019</td>\n",
       "      <td>David F. Sandberg</td>\n",
       "      <td>7.1</td>\n",
       "    </tr>\n",
       "  </tbody>\n",
       "</table>\n",
       "</div>"
      ],
      "text/plain": [
       "                                    Year           Director  Rating\n",
       "Title                                                              \n",
       "Man of Steel                        2013        Zack Snyder     7.1\n",
       "Batman v Superman: Dawn of Justice  2016        Zack Snyder     6.5\n",
       "Wonder Woman                        2017      Patty Jenkins     7.4\n",
       "Suicide Squad                       2016         David Ayer     6.0\n",
       "Justice League                      2017        Zack Snyder     6.3\n",
       "Aquaman                             2018          James Wan     7.0\n",
       "Shazam!                             2019  David F. Sandberg     7.1"
      ]
     },
     "execution_count": 52,
     "metadata": {},
     "output_type": "execute_result"
    }
   ],
   "source": [
    "dc_df = dc_df.reset_index().drop_duplicates(subset=[\"Title\"])\n",
    "dc_df.set_index('Title', inplace=True)\n",
    "dc_df"
   ]
  },
  {
   "cell_type": "code",
   "execution_count": null,
   "id": "f0c45573",
   "metadata": {
    "papermill": {
     "duration": 0.02627,
     "end_time": "2023-08-15T18:07:12.952477",
     "exception": false,
     "start_time": "2023-08-15T18:07:12.926207",
     "status": "completed"
    },
    "tags": []
   },
   "outputs": [],
   "source": []
  }
 ],
 "metadata": {
  "kernelspec": {
   "display_name": "Python 3",
   "language": "python",
   "name": "python3"
  },
  "language_info": {
   "codemirror_mode": {
    "name": "ipython",
    "version": 3
   },
   "file_extension": ".py",
   "mimetype": "text/x-python",
   "name": "python",
   "nbconvert_exporter": "python",
   "pygments_lexer": "ipython3",
   "version": "3.10.12"
  },
  "papermill": {
   "default_parameters": {},
   "duration": 15.951442,
   "end_time": "2023-08-15T18:07:13.805253",
   "environment_variables": {},
   "exception": null,
   "input_path": "__notebook__.ipynb",
   "output_path": "__notebook__.ipynb",
   "parameters": {},
   "start_time": "2023-08-15T18:06:57.853811",
   "version": "2.4.0"
  }
 },
 "nbformat": 4,
 "nbformat_minor": 5
}
